{
 "cells": [
  {
   "cell_type": "code",
   "execution_count": 1,
   "metadata": {
    "colab": {},
    "colab_type": "code",
    "id": "_YMAoWGDvvzt"
   },
   "outputs": [],
   "source": [
    "import pandas as pd"
   ]
  },
  {
   "cell_type": "code",
   "execution_count": 2,
   "metadata": {
    "colab": {},
    "colab_type": "code",
    "id": "q--ZYhejv3R-"
   },
   "outputs": [],
   "source": [
    "import matplotlib.pyplot as plt"
   ]
  },
  {
   "cell_type": "code",
   "execution_count": 3,
   "metadata": {
    "colab": {},
    "colab_type": "code",
    "id": "P5M2kQg1v6NY"
   },
   "outputs": [],
   "source": [
    "%matplotlib inline"
   ]
  },
  {
   "cell_type": "code",
   "execution_count": 4,
   "metadata": {
    "colab": {},
    "colab_type": "code",
    "id": "48Qk9_Icv_xL"
   },
   "outputs": [],
   "source": [
    "data_frame_train=pd.read_excel(\"Data_Train (2).xlsx\")"
   ]
  },
  {
   "cell_type": "code",
   "execution_count": 5,
   "metadata": {
    "colab": {},
    "colab_type": "code",
    "id": "maZw_hRvwRVH"
   },
   "outputs": [],
   "source": [
    "data_frame_test=pd.read_excel(\"Data_Test (2).xlsx\")"
   ]
  },
  {
   "cell_type": "code",
   "execution_count": 6,
   "metadata": {
    "colab": {},
    "colab_type": "code",
    "id": "kK-2g9LDwc6b"
   },
   "outputs": [
    {
     "data": {
      "text/html": [
       "<div>\n",
       "<style scoped>\n",
       "    .dataframe tbody tr th:only-of-type {\n",
       "        vertical-align: middle;\n",
       "    }\n",
       "\n",
       "    .dataframe tbody tr th {\n",
       "        vertical-align: top;\n",
       "    }\n",
       "\n",
       "    .dataframe thead th {\n",
       "        text-align: right;\n",
       "    }\n",
       "</style>\n",
       "<table border=\"1\" class=\"dataframe\">\n",
       "  <thead>\n",
       "    <tr style=\"text-align: right;\">\n",
       "      <th></th>\n",
       "      <th>Name</th>\n",
       "      <th>Location</th>\n",
       "      <th>Year</th>\n",
       "      <th>Kilometers_Driven</th>\n",
       "      <th>Fuel_Type</th>\n",
       "      <th>Transmission</th>\n",
       "      <th>Owner_Type</th>\n",
       "      <th>Mileage</th>\n",
       "      <th>Engine</th>\n",
       "      <th>Power</th>\n",
       "      <th>Seats</th>\n",
       "      <th>Price</th>\n",
       "    </tr>\n",
       "  </thead>\n",
       "  <tbody>\n",
       "    <tr>\n",
       "      <th>0</th>\n",
       "      <td>Maruti Wagon R LXI CNG</td>\n",
       "      <td>Mumbai</td>\n",
       "      <td>2010</td>\n",
       "      <td>72000</td>\n",
       "      <td>CNG</td>\n",
       "      <td>Manual</td>\n",
       "      <td>First</td>\n",
       "      <td>26.6 km/kg</td>\n",
       "      <td>998 CC</td>\n",
       "      <td>58.16 bhp</td>\n",
       "      <td>5.0</td>\n",
       "      <td>1.75</td>\n",
       "    </tr>\n",
       "    <tr>\n",
       "      <th>1</th>\n",
       "      <td>Hyundai Creta 1.6 CRDi SX Option</td>\n",
       "      <td>Pune</td>\n",
       "      <td>2015</td>\n",
       "      <td>41000</td>\n",
       "      <td>Diesel</td>\n",
       "      <td>Manual</td>\n",
       "      <td>First</td>\n",
       "      <td>19.67 kmpl</td>\n",
       "      <td>1582 CC</td>\n",
       "      <td>126.2 bhp</td>\n",
       "      <td>5.0</td>\n",
       "      <td>12.50</td>\n",
       "    </tr>\n",
       "    <tr>\n",
       "      <th>2</th>\n",
       "      <td>Honda Jazz V</td>\n",
       "      <td>Chennai</td>\n",
       "      <td>2011</td>\n",
       "      <td>46000</td>\n",
       "      <td>Petrol</td>\n",
       "      <td>Manual</td>\n",
       "      <td>First</td>\n",
       "      <td>18.2 kmpl</td>\n",
       "      <td>1199 CC</td>\n",
       "      <td>88.7 bhp</td>\n",
       "      <td>5.0</td>\n",
       "      <td>4.50</td>\n",
       "    </tr>\n",
       "    <tr>\n",
       "      <th>3</th>\n",
       "      <td>Maruti Ertiga VDI</td>\n",
       "      <td>Chennai</td>\n",
       "      <td>2012</td>\n",
       "      <td>87000</td>\n",
       "      <td>Diesel</td>\n",
       "      <td>Manual</td>\n",
       "      <td>First</td>\n",
       "      <td>20.77 kmpl</td>\n",
       "      <td>1248 CC</td>\n",
       "      <td>88.76 bhp</td>\n",
       "      <td>7.0</td>\n",
       "      <td>6.00</td>\n",
       "    </tr>\n",
       "    <tr>\n",
       "      <th>4</th>\n",
       "      <td>Audi A4 New 2.0 TDI Multitronic</td>\n",
       "      <td>Coimbatore</td>\n",
       "      <td>2013</td>\n",
       "      <td>40670</td>\n",
       "      <td>Diesel</td>\n",
       "      <td>Automatic</td>\n",
       "      <td>Second</td>\n",
       "      <td>15.2 kmpl</td>\n",
       "      <td>1968 CC</td>\n",
       "      <td>140.8 bhp</td>\n",
       "      <td>5.0</td>\n",
       "      <td>17.74</td>\n",
       "    </tr>\n",
       "  </tbody>\n",
       "</table>\n",
       "</div>"
      ],
      "text/plain": [
       "                               Name    Location  Year  Kilometers_Driven  \\\n",
       "0            Maruti Wagon R LXI CNG      Mumbai  2010              72000   \n",
       "1  Hyundai Creta 1.6 CRDi SX Option        Pune  2015              41000   \n",
       "2                      Honda Jazz V     Chennai  2011              46000   \n",
       "3                 Maruti Ertiga VDI     Chennai  2012              87000   \n",
       "4   Audi A4 New 2.0 TDI Multitronic  Coimbatore  2013              40670   \n",
       "\n",
       "  Fuel_Type Transmission Owner_Type     Mileage   Engine      Power  Seats  \\\n",
       "0       CNG       Manual      First  26.6 km/kg   998 CC  58.16 bhp    5.0   \n",
       "1    Diesel       Manual      First  19.67 kmpl  1582 CC  126.2 bhp    5.0   \n",
       "2    Petrol       Manual      First   18.2 kmpl  1199 CC   88.7 bhp    5.0   \n",
       "3    Diesel       Manual      First  20.77 kmpl  1248 CC  88.76 bhp    7.0   \n",
       "4    Diesel    Automatic     Second   15.2 kmpl  1968 CC  140.8 bhp    5.0   \n",
       "\n",
       "   Price  \n",
       "0   1.75  \n",
       "1  12.50  \n",
       "2   4.50  \n",
       "3   6.00  \n",
       "4  17.74  "
      ]
     },
     "execution_count": 6,
     "metadata": {},
     "output_type": "execute_result"
    }
   ],
   "source": [
    "data_frame_train.head()"
   ]
  },
  {
   "cell_type": "code",
   "execution_count": 7,
   "metadata": {
    "colab": {},
    "colab_type": "code",
    "id": "jbm7a2zywfOu"
   },
   "outputs": [
    {
     "data": {
      "text/html": [
       "<div>\n",
       "<style scoped>\n",
       "    .dataframe tbody tr th:only-of-type {\n",
       "        vertical-align: middle;\n",
       "    }\n",
       "\n",
       "    .dataframe tbody tr th {\n",
       "        vertical-align: top;\n",
       "    }\n",
       "\n",
       "    .dataframe thead th {\n",
       "        text-align: right;\n",
       "    }\n",
       "</style>\n",
       "<table border=\"1\" class=\"dataframe\">\n",
       "  <thead>\n",
       "    <tr style=\"text-align: right;\">\n",
       "      <th></th>\n",
       "      <th>Name</th>\n",
       "      <th>Location</th>\n",
       "      <th>Year</th>\n",
       "      <th>Kilometers_Driven</th>\n",
       "      <th>Fuel_Type</th>\n",
       "      <th>Transmission</th>\n",
       "      <th>Owner_Type</th>\n",
       "      <th>Mileage</th>\n",
       "      <th>Engine</th>\n",
       "      <th>Power</th>\n",
       "      <th>Seats</th>\n",
       "    </tr>\n",
       "  </thead>\n",
       "  <tbody>\n",
       "    <tr>\n",
       "      <th>0</th>\n",
       "      <td>Maruti Alto K10 LXI CNG</td>\n",
       "      <td>Delhi</td>\n",
       "      <td>2014</td>\n",
       "      <td>40929</td>\n",
       "      <td>CNG</td>\n",
       "      <td>Manual</td>\n",
       "      <td>First</td>\n",
       "      <td>32.26 km/kg</td>\n",
       "      <td>998 CC</td>\n",
       "      <td>58.2 bhp</td>\n",
       "      <td>4.0</td>\n",
       "    </tr>\n",
       "    <tr>\n",
       "      <th>1</th>\n",
       "      <td>Maruti Alto 800 2016-2019 LXI</td>\n",
       "      <td>Coimbatore</td>\n",
       "      <td>2013</td>\n",
       "      <td>54493</td>\n",
       "      <td>Petrol</td>\n",
       "      <td>Manual</td>\n",
       "      <td>Second</td>\n",
       "      <td>24.7 kmpl</td>\n",
       "      <td>796 CC</td>\n",
       "      <td>47.3 bhp</td>\n",
       "      <td>5.0</td>\n",
       "    </tr>\n",
       "    <tr>\n",
       "      <th>2</th>\n",
       "      <td>Toyota Innova Crysta Touring Sport 2.4 MT</td>\n",
       "      <td>Mumbai</td>\n",
       "      <td>2017</td>\n",
       "      <td>34000</td>\n",
       "      <td>Diesel</td>\n",
       "      <td>Manual</td>\n",
       "      <td>First</td>\n",
       "      <td>13.68 kmpl</td>\n",
       "      <td>2393 CC</td>\n",
       "      <td>147.8 bhp</td>\n",
       "      <td>7.0</td>\n",
       "    </tr>\n",
       "    <tr>\n",
       "      <th>3</th>\n",
       "      <td>Toyota Etios Liva GD</td>\n",
       "      <td>Hyderabad</td>\n",
       "      <td>2012</td>\n",
       "      <td>139000</td>\n",
       "      <td>Diesel</td>\n",
       "      <td>Manual</td>\n",
       "      <td>First</td>\n",
       "      <td>23.59 kmpl</td>\n",
       "      <td>1364 CC</td>\n",
       "      <td>null bhp</td>\n",
       "      <td>5.0</td>\n",
       "    </tr>\n",
       "    <tr>\n",
       "      <th>4</th>\n",
       "      <td>Hyundai i20 Magna</td>\n",
       "      <td>Mumbai</td>\n",
       "      <td>2014</td>\n",
       "      <td>29000</td>\n",
       "      <td>Petrol</td>\n",
       "      <td>Manual</td>\n",
       "      <td>First</td>\n",
       "      <td>18.5 kmpl</td>\n",
       "      <td>1197 CC</td>\n",
       "      <td>82.85 bhp</td>\n",
       "      <td>5.0</td>\n",
       "    </tr>\n",
       "  </tbody>\n",
       "</table>\n",
       "</div>"
      ],
      "text/plain": [
       "                                        Name    Location  Year  \\\n",
       "0                    Maruti Alto K10 LXI CNG       Delhi  2014   \n",
       "1              Maruti Alto 800 2016-2019 LXI  Coimbatore  2013   \n",
       "2  Toyota Innova Crysta Touring Sport 2.4 MT      Mumbai  2017   \n",
       "3                       Toyota Etios Liva GD   Hyderabad  2012   \n",
       "4                          Hyundai i20 Magna      Mumbai  2014   \n",
       "\n",
       "   Kilometers_Driven Fuel_Type Transmission Owner_Type      Mileage   Engine  \\\n",
       "0              40929       CNG       Manual      First  32.26 km/kg   998 CC   \n",
       "1              54493    Petrol       Manual     Second    24.7 kmpl   796 CC   \n",
       "2              34000    Diesel       Manual      First   13.68 kmpl  2393 CC   \n",
       "3             139000    Diesel       Manual      First   23.59 kmpl  1364 CC   \n",
       "4              29000    Petrol       Manual      First    18.5 kmpl  1197 CC   \n",
       "\n",
       "       Power  Seats  \n",
       "0   58.2 bhp    4.0  \n",
       "1   47.3 bhp    5.0  \n",
       "2  147.8 bhp    7.0  \n",
       "3   null bhp    5.0  \n",
       "4  82.85 bhp    5.0  "
      ]
     },
     "execution_count": 7,
     "metadata": {},
     "output_type": "execute_result"
    }
   ],
   "source": [
    "data_frame_test.head()"
   ]
  },
  {
   "cell_type": "code",
   "execution_count": 8,
   "metadata": {
    "colab": {},
    "colab_type": "code",
    "id": "3NLU5YMrwhM6"
   },
   "outputs": [
    {
     "data": {
      "text/plain": [
       "(6019, 12)"
      ]
     },
     "execution_count": 8,
     "metadata": {},
     "output_type": "execute_result"
    }
   ],
   "source": [
    "data_frame_train.shape"
   ]
  },
  {
   "cell_type": "code",
   "execution_count": 9,
   "metadata": {
    "colab": {},
    "colab_type": "code",
    "id": "FUXWJ6kYwmUJ"
   },
   "outputs": [
    {
     "data": {
      "text/plain": [
       "(1234, 11)"
      ]
     },
     "execution_count": 9,
     "metadata": {},
     "output_type": "execute_result"
    }
   ],
   "source": [
    "data_frame_test.shape"
   ]
  },
  {
   "cell_type": "code",
   "execution_count": 10,
   "metadata": {
    "colab": {},
    "colab_type": "code",
    "id": "pnOGLqKJWDdm"
   },
   "outputs": [
    {
     "data": {
      "text/plain": [
       "Name                  object\n",
       "Location              object\n",
       "Year                   int64\n",
       "Kilometers_Driven      int64\n",
       "Fuel_Type             object\n",
       "Transmission          object\n",
       "Owner_Type            object\n",
       "Mileage               object\n",
       "Engine                object\n",
       "Power                 object\n",
       "Seats                float64\n",
       "Price                float64\n",
       "dtype: object"
      ]
     },
     "execution_count": 10,
     "metadata": {},
     "output_type": "execute_result"
    }
   ],
   "source": [
    "data_frame_train.dtypes"
   ]
  },
  {
   "cell_type": "code",
   "execution_count": 11,
   "metadata": {},
   "outputs": [
    {
     "data": {
      "text/plain": [
       "Name                  0\n",
       "Location              0\n",
       "Year                  0\n",
       "Kilometers_Driven     0\n",
       "Fuel_Type             0\n",
       "Transmission          0\n",
       "Owner_Type            0\n",
       "Mileage               2\n",
       "Engine               36\n",
       "Power                36\n",
       "Seats                42\n",
       "Price                 0\n",
       "dtype: int64"
      ]
     },
     "execution_count": 11,
     "metadata": {},
     "output_type": "execute_result"
    }
   ],
   "source": [
    "data_frame_train.isnull().sum()"
   ]
  },
  {
   "cell_type": "code",
   "execution_count": 12,
   "metadata": {
    "colab": {},
    "colab_type": "code",
    "id": "gI_0UdoKWgS4"
   },
   "outputs": [],
   "source": [
    "all_obj_train=['Name','Location','Fuel_Type','Transmission','Owner_Type']"
   ]
  },
  {
   "cell_type": "code",
   "execution_count": 13,
   "metadata": {
    "colab": {},
    "colab_type": "code",
    "id": "0Xs6Wr2oWoFD"
   },
   "outputs": [
    {
     "data": {
      "text/plain": [
       "Name                  object\n",
       "Location              object\n",
       "Year                   int64\n",
       "Kilometers_Driven      int64\n",
       "Fuel_Type             object\n",
       "Transmission          object\n",
       "Owner_Type            object\n",
       "Mileage               object\n",
       "Engine                object\n",
       "Power                 object\n",
       "Seats                float64\n",
       "dtype: object"
      ]
     },
     "execution_count": 13,
     "metadata": {},
     "output_type": "execute_result"
    }
   ],
   "source": [
    "data_frame_test.dtypes"
   ]
  },
  {
   "cell_type": "code",
   "execution_count": 14,
   "metadata": {
    "colab": {},
    "colab_type": "code",
    "id": "EjXQyvoMWoWW"
   },
   "outputs": [],
   "source": [
    "all_obj_test=['Name','Location','Fuel_Type','Transmission','Owner_Type']"
   ]
  },
  {
   "cell_type": "code",
   "execution_count": 15,
   "metadata": {
    "colab": {},
    "colab_type": "code",
    "id": "sfELMyxMwn8C"
   },
   "outputs": [],
   "source": [
    "val=list(data_frame_train[\"Mileage\"])\n",
    "val2=[]\n",
    "for item in val:\n",
    "    item=str(item)\n",
    "    val2.append(item.split()[0])\n",
    "val2=list(map(float,val2))\n",
    "data_frame_train[\"Mileage\"]=val2"
   ]
  },
  {
   "cell_type": "code",
   "execution_count": 16,
   "metadata": {
    "colab": {},
    "colab_type": "code",
    "id": "6or_W8sYwu6f"
   },
   "outputs": [
    {
     "data": {
      "text/plain": [
       "0       26.60\n",
       "1       19.67\n",
       "2       18.20\n",
       "3       20.77\n",
       "4       15.20\n",
       "5       21.10\n",
       "6       23.08\n",
       "7       11.36\n",
       "8       20.54\n",
       "9       22.30\n",
       "10      21.56\n",
       "11      16.80\n",
       "12      25.20\n",
       "13      12.70\n",
       "14       0.00\n",
       "15      13.50\n",
       "16      25.80\n",
       "17      28.40\n",
       "18      20.45\n",
       "19      14.84\n",
       "20      22.69\n",
       "21      23.65\n",
       "22      13.53\n",
       "23      18.50\n",
       "24      14.40\n",
       "25      16.80\n",
       "26      23.08\n",
       "27      20.92\n",
       "28      17.50\n",
       "29      12.80\n",
       "        ...  \n",
       "5989    18.25\n",
       "5990    13.93\n",
       "5991    22.90\n",
       "5992    13.70\n",
       "5993    16.30\n",
       "5994    17.00\n",
       "5995    19.87\n",
       "5996    16.36\n",
       "5997    26.20\n",
       "5998    17.24\n",
       "5999    17.57\n",
       "6000    18.50\n",
       "6001    17.68\n",
       "6002    16.09\n",
       "6003    23.10\n",
       "6004    15.30\n",
       "6005    24.30\n",
       "6006     8.70\n",
       "6007    19.30\n",
       "6008    17.85\n",
       "6009    19.16\n",
       "6010    18.50\n",
       "6011     0.00\n",
       "6012    12.80\n",
       "6013    25.80\n",
       "6014    28.40\n",
       "6015    24.40\n",
       "6016    14.00\n",
       "6017    18.90\n",
       "6018    25.44\n",
       "Name: Mileage, Length: 6019, dtype: float64"
      ]
     },
     "execution_count": 16,
     "metadata": {},
     "output_type": "execute_result"
    }
   ],
   "source": [
    "data_frame_train[\"Mileage\"]"
   ]
  },
  {
   "cell_type": "code",
   "execution_count": 17,
   "metadata": {
    "colab": {},
    "colab_type": "code",
    "id": "HpQgg12Mwzgu"
   },
   "outputs": [],
   "source": [
    "data_frame_train[\"Mileage\"].fillna(data_frame_train[\"Mileage\"].mean(),inplace=True)"
   ]
  },
  {
   "cell_type": "code",
   "execution_count": 18,
   "metadata": {
    "colab": {},
    "colab_type": "code",
    "id": "3QBnCEgkUqsj"
   },
   "outputs": [
    {
     "data": {
      "text/plain": [
       "Name                  0\n",
       "Location              0\n",
       "Year                  0\n",
       "Kilometers_Driven     0\n",
       "Fuel_Type             0\n",
       "Transmission          0\n",
       "Owner_Type            0\n",
       "Mileage               0\n",
       "Engine               36\n",
       "Power                36\n",
       "Seats                42\n",
       "Price                 0\n",
       "dtype: int64"
      ]
     },
     "execution_count": 18,
     "metadata": {},
     "output_type": "execute_result"
    }
   ],
   "source": [
    "data_frame_train.isnull().sum()"
   ]
  },
  {
   "cell_type": "code",
   "execution_count": 19,
   "metadata": {
    "colab": {},
    "colab_type": "code",
    "id": "S7mdbg9jw3r-"
   },
   "outputs": [],
   "source": [
    "val=list(data_frame_train[\"Engine\"])\n",
    "val2=[]\n",
    "for item in val:\n",
    "    item=str(item)\n",
    "    val2.append(item.split()[0])\n",
    "val2=list(map(float,val2))\n",
    "data_frame_train[\"Engine\"]=val2"
   ]
  },
  {
   "cell_type": "code",
   "execution_count": 20,
   "metadata": {
    "colab": {},
    "colab_type": "code",
    "id": "n-xILWesw6js"
   },
   "outputs": [
    {
     "data": {
      "text/plain": [
       "0        998.0\n",
       "1       1582.0\n",
       "2       1199.0\n",
       "3       1248.0\n",
       "4       1968.0\n",
       "5        814.0\n",
       "6       1461.0\n",
       "7       2755.0\n",
       "8       1598.0\n",
       "9       1248.0\n",
       "10      1462.0\n",
       "11      1497.0\n",
       "12      1248.0\n",
       "13      2179.0\n",
       "14      2179.0\n",
       "15      2477.0\n",
       "16      1498.0\n",
       "17      1248.0\n",
       "18      1461.0\n",
       "19      2143.0\n",
       "20      1995.0\n",
       "21      1248.0\n",
       "22      1984.0\n",
       "23      1197.0\n",
       "24      1598.0\n",
       "25      1497.0\n",
       "26      1461.0\n",
       "27       998.0\n",
       "28      1199.0\n",
       "29      2494.0\n",
       "         ...  \n",
       "5989    1968.0\n",
       "5990    2179.0\n",
       "5991    1248.0\n",
       "5992    1798.0\n",
       "5993    1797.0\n",
       "5994    1497.0\n",
       "5995    1461.0\n",
       "5996    2179.0\n",
       "5997     998.0\n",
       "5998    1198.0\n",
       "5999    1193.0\n",
       "6000    1197.0\n",
       "6001    1968.0\n",
       "6002    1598.0\n",
       "6003     998.0\n",
       "6004    1341.0\n",
       "6005    1248.0\n",
       "6006    2987.0\n",
       "6007    1248.0\n",
       "6008    2967.0\n",
       "6009    2494.0\n",
       "6010    1198.0\n",
       "6011    3597.0\n",
       "6012    2494.0\n",
       "6013    1498.0\n",
       "6014    1248.0\n",
       "6015    1120.0\n",
       "6016    2498.0\n",
       "6017     998.0\n",
       "6018     936.0\n",
       "Name: Engine, Length: 6019, dtype: float64"
      ]
     },
     "execution_count": 20,
     "metadata": {},
     "output_type": "execute_result"
    }
   ],
   "source": [
    "data_frame_train[\"Engine\"]"
   ]
  },
  {
   "cell_type": "code",
   "execution_count": 21,
   "metadata": {
    "colab": {},
    "colab_type": "code",
    "id": "TGxsXZ7yw-NS"
   },
   "outputs": [],
   "source": [
    "data_frame_train[\"Engine\"].fillna(data_frame_train[\"Engine\"].mode()[0],inplace=True)\n",
    "val=list(data_frame_train[\"Engine\"])\n",
    "val=list(map(int,val))\n",
    "data_frame_train[\"Engine\"]=val"
   ]
  },
  {
   "cell_type": "code",
   "execution_count": 22,
   "metadata": {},
   "outputs": [
    {
     "data": {
      "text/plain": [
       "Name                  0\n",
       "Location              0\n",
       "Year                  0\n",
       "Kilometers_Driven     0\n",
       "Fuel_Type             0\n",
       "Transmission          0\n",
       "Owner_Type            0\n",
       "Mileage               0\n",
       "Engine                0\n",
       "Power                36\n",
       "Seats                42\n",
       "Price                 0\n",
       "dtype: int64"
      ]
     },
     "execution_count": 22,
     "metadata": {},
     "output_type": "execute_result"
    }
   ],
   "source": [
    "data_frame_train.isnull().sum()"
   ]
  },
  {
   "cell_type": "code",
   "execution_count": 23,
   "metadata": {
    "colab": {},
    "colab_type": "code",
    "id": "labVxJ7xRxDO"
   },
   "outputs": [
    {
     "data": {
      "text/plain": [
       "0    5.0\n",
       "dtype: float64"
      ]
     },
     "execution_count": 23,
     "metadata": {},
     "output_type": "execute_result"
    }
   ],
   "source": [
    "data_frame_train[\"Seats\"].mode()"
   ]
  },
  {
   "cell_type": "code",
   "execution_count": 24,
   "metadata": {
    "colab": {},
    "colab_type": "code",
    "id": "WSdVN93MRySs"
   },
   "outputs": [],
   "source": [
    "data_frame_train[\"Seats\"].fillna(data_frame_train[\"Seats\"].mode()[0],inplace=True)"
   ]
  },
  {
   "cell_type": "code",
   "execution_count": 25,
   "metadata": {
    "colab": {},
    "colab_type": "code",
    "id": "jCcO5D5ESSVZ"
   },
   "outputs": [
    {
     "data": {
      "text/plain": [
       "Name                  0\n",
       "Location              0\n",
       "Year                  0\n",
       "Kilometers_Driven     0\n",
       "Fuel_Type             0\n",
       "Transmission          0\n",
       "Owner_Type            0\n",
       "Mileage               0\n",
       "Engine                0\n",
       "Power                36\n",
       "Seats                 0\n",
       "Price                 0\n",
       "dtype: int64"
      ]
     },
     "execution_count": 25,
     "metadata": {},
     "output_type": "execute_result"
    }
   ],
   "source": [
    "data_frame_train.isnull().sum()"
   ]
  },
  {
   "cell_type": "code",
   "execution_count": 26,
   "metadata": {
    "colab": {},
    "colab_type": "code",
    "id": "mvLfQqsgxzX6"
   },
   "outputs": [],
   "source": [
    "val=list(data_frame_train[\"Power\"])\n",
    "val2=[]\n",
    "for item in val:\n",
    "    item=str(item)\n",
    "    item=item.split()\n",
    "    if item[0]=='null':\n",
    "        val2.append(0)\n",
    "    else:\n",
    "        val2.append(item[0])\n",
    "val2=list(map(float,val2))\n",
    "data_frame_train[\"Power\"]=val2"
   ]
  },
  {
   "cell_type": "code",
   "execution_count": 27,
   "metadata": {
    "colab": {},
    "colab_type": "code",
    "id": "JcjshLiAx6vY"
   },
   "outputs": [],
   "source": [
    "#replacing power and null values with mean power of the dataset\n",
    "val=data_frame_train[\"Power\"].mean()\n",
    "data_frame_train[\"Power\"].fillna(data_frame_train[\"Power\"].mean(),inplace=True)"
   ]
  },
  {
   "cell_type": "code",
   "execution_count": 28,
   "metadata": {
    "colab": {},
    "colab_type": "code",
    "id": "AMJxoBa0PSpn"
   },
   "outputs": [],
   "source": [
    "values=list(data_frame_train[\"Power\"])\n",
    "val2=[]\n",
    "for item in values:\n",
    "    if item==0.0:\n",
    "        val2.append(val)\n",
    "    else:\n",
    "        val2.append(item)\n",
    "val2=list(map(float,val2))\n",
    "data_frame_train[\"Power\"]=val2"
   ]
  },
  {
   "cell_type": "code",
   "execution_count": 29,
   "metadata": {
    "colab": {},
    "colab_type": "code",
    "id": "pVJbVwaxQOQM"
   },
   "outputs": [
    {
     "data": {
      "text/plain": [
       "Name                 0\n",
       "Location             0\n",
       "Year                 0\n",
       "Kilometers_Driven    0\n",
       "Fuel_Type            0\n",
       "Transmission         0\n",
       "Owner_Type           0\n",
       "Mileage              0\n",
       "Engine               0\n",
       "Power                0\n",
       "Seats                0\n",
       "Price                0\n",
       "dtype: int64"
      ]
     },
     "execution_count": 29,
     "metadata": {},
     "output_type": "execute_result"
    }
   ],
   "source": [
    "data_frame_train.isnull().sum()"
   ]
  },
  {
   "cell_type": "code",
   "execution_count": 30,
   "metadata": {
    "colab": {},
    "colab_type": "code",
    "id": "nS_WZEKsQUfR"
   },
   "outputs": [
    {
     "data": {
      "text/plain": [
       "Name                  0\n",
       "Location              0\n",
       "Year                  0\n",
       "Kilometers_Driven     0\n",
       "Fuel_Type             0\n",
       "Transmission          0\n",
       "Owner_Type            0\n",
       "Mileage               0\n",
       "Engine               10\n",
       "Power                10\n",
       "Seats                11\n",
       "dtype: int64"
      ]
     },
     "execution_count": 30,
     "metadata": {},
     "output_type": "execute_result"
    }
   ],
   "source": [
    "data_frame_test.isnull().sum()"
   ]
  },
  {
   "cell_type": "code",
   "execution_count": 31,
   "metadata": {
    "colab": {},
    "colab_type": "code",
    "id": "7VJk4zBRRay4"
   },
   "outputs": [
    {
     "data": {
      "text/plain": [
       "0    5.0\n",
       "dtype: float64"
      ]
     },
     "execution_count": 31,
     "metadata": {},
     "output_type": "execute_result"
    }
   ],
   "source": [
    "data_frame_test[\"Seats\"].mode()"
   ]
  },
  {
   "cell_type": "code",
   "execution_count": 32,
   "metadata": {
    "colab": {},
    "colab_type": "code",
    "id": "-wtoTsDHSu7n"
   },
   "outputs": [],
   "source": [
    "data_frame_test[\"Seats\"].fillna(data_frame_test[\"Seats\"].mode()[0],inplace=True)"
   ]
  },
  {
   "cell_type": "code",
   "execution_count": 33,
   "metadata": {
    "colab": {},
    "colab_type": "code",
    "id": "-sJN4nSES7ZM"
   },
   "outputs": [
    {
     "data": {
      "text/plain": [
       "0        998 CC\n",
       "1        796 CC\n",
       "2       2393 CC\n",
       "3       1364 CC\n",
       "4       1197 CC\n",
       "5       2179 CC\n",
       "6       2982 CC\n",
       "7        814 CC\n",
       "8       1497 CC\n",
       "9       2179 CC\n",
       "10      1968 CC\n",
       "11      1197 CC\n",
       "12      1794 CC\n",
       "13      1248 CC\n",
       "14      1598 CC\n",
       "15      1995 CC\n",
       "16      1995 CC\n",
       "17      1399 CC\n",
       "18      1197 CC\n",
       "19      1298 CC\n",
       "20      1248 CC\n",
       "21      1198 CC\n",
       "22       796 CC\n",
       "23          NaN\n",
       "24      1799 CC\n",
       "25      1299 CC\n",
       "26       796 CC\n",
       "27      1498 CC\n",
       "28      1498 CC\n",
       "29      1197 CC\n",
       "         ...   \n",
       "1204    1991 CC\n",
       "1205    1198 CC\n",
       "1206    1798 CC\n",
       "1207    1086 CC\n",
       "1208    1461 CC\n",
       "1209    1047 CC\n",
       "1210    1598 CC\n",
       "1211    1197 CC\n",
       "1212    1497 CC\n",
       "1213    1368 CC\n",
       "1214    1968 CC\n",
       "1215    1591 CC\n",
       "1216    1248 CC\n",
       "1217    1197 CC\n",
       "1218    1498 CC\n",
       "1219    1968 CC\n",
       "1220    1198 CC\n",
       "1221    1498 CC\n",
       "1222    2993 CC\n",
       "1223    1197 CC\n",
       "1224    1461 CC\n",
       "1225    1399 CC\n",
       "1226    1198 CC\n",
       "1227    1197 CC\n",
       "1228     814 CC\n",
       "1229    1598 CC\n",
       "1230    1197 CC\n",
       "1231    1461 CC\n",
       "1232    1197 CC\n",
       "1233    2148 CC\n",
       "Name: Engine, Length: 1234, dtype: object"
      ]
     },
     "execution_count": 33,
     "metadata": {},
     "output_type": "execute_result"
    }
   ],
   "source": [
    "data_frame_test[\"Engine\"]"
   ]
  },
  {
   "cell_type": "code",
   "execution_count": 34,
   "metadata": {
    "colab": {},
    "colab_type": "code",
    "id": "uNkn8owfTCH5"
   },
   "outputs": [],
   "source": [
    "val=list(data_frame_test[\"Engine\"])\n",
    "val2=[]\n",
    "for item in val:\n",
    "    item=str(item)\n",
    "    val2.append(item.split()[0])\n",
    "val2=list(map(float,val2))\n",
    "data_frame_test[\"Engine\"]=val2"
   ]
  },
  {
   "cell_type": "code",
   "execution_count": 35,
   "metadata": {
    "colab": {},
    "colab_type": "code",
    "id": "O94KJ0KFTMZz"
   },
   "outputs": [
    {
     "data": {
      "text/plain": [
       "0    1197.0\n",
       "dtype: float64"
      ]
     },
     "execution_count": 35,
     "metadata": {},
     "output_type": "execute_result"
    }
   ],
   "source": [
    "data_frame_test[\"Engine\"].mode()"
   ]
  },
  {
   "cell_type": "code",
   "execution_count": 36,
   "metadata": {
    "colab": {},
    "colab_type": "code",
    "id": "ztJ0VWoNTg-U"
   },
   "outputs": [],
   "source": [
    "data_frame_test[\"Engine\"].fillna(data_frame_test[\"Engine\"].mode()[0],inplace=True)"
   ]
  },
  {
   "cell_type": "code",
   "execution_count": 37,
   "metadata": {
    "colab": {},
    "colab_type": "code",
    "id": "gbK9tzGKTskU"
   },
   "outputs": [
    {
     "data": {
      "text/plain": [
       "Name                  0\n",
       "Location              0\n",
       "Year                  0\n",
       "Kilometers_Driven     0\n",
       "Fuel_Type             0\n",
       "Transmission          0\n",
       "Owner_Type            0\n",
       "Mileage               0\n",
       "Engine                0\n",
       "Power                10\n",
       "Seats                 0\n",
       "dtype: int64"
      ]
     },
     "execution_count": 37,
     "metadata": {},
     "output_type": "execute_result"
    }
   ],
   "source": [
    "data_frame_test.isnull().sum()"
   ]
  },
  {
   "cell_type": "code",
   "execution_count": 38,
   "metadata": {
    "colab": {},
    "colab_type": "code",
    "id": "MpRUax5fVFWB"
   },
   "outputs": [],
   "source": [
    "val=list(data_frame_test[\"Power\"])\n",
    "val2=[]\n",
    "for item in val:\n",
    "    item=str(item)\n",
    "    item=item.split()\n",
    "    if item[0]=='null':\n",
    "        val2.append(0)\n",
    "    else:\n",
    "        val2.append(item[0])\n",
    "val2=list(map(float,val2))\n",
    "data_frame_test[\"Power\"]=val2"
   ]
  },
  {
   "cell_type": "code",
   "execution_count": 39,
   "metadata": {
    "colab": {},
    "colab_type": "code",
    "id": "a5EEm8-RVLAM"
   },
   "outputs": [],
   "source": [
    "#replacing power and null values with mean power of the dataset\n",
    "val=data_frame_test[\"Power\"].mean()\n",
    "data_frame_test[\"Power\"].fillna(data_frame_test[\"Power\"].mean(),inplace=True)"
   ]
  },
  {
   "cell_type": "code",
   "execution_count": 40,
   "metadata": {
    "colab": {},
    "colab_type": "code",
    "id": "CU1Y3lJ0VvA6"
   },
   "outputs": [
    {
     "name": "stderr",
     "output_type": "stream",
     "text": [
      "C:\\Users\\AVM\\Anaconda3\\lib\\site-packages\\ipykernel_launcher.py:3: SettingWithCopyWarning: \n",
      "A value is trying to be set on a copy of a slice from a DataFrame\n",
      "\n",
      "See the caveats in the documentation: http://pandas.pydata.org/pandas-docs/stable/indexing.html#indexing-view-versus-copy\n",
      "  This is separate from the ipykernel package so we can avoid doing imports until\n"
     ]
    }
   ],
   "source": [
    "for i in range(0,len(data_frame_test)):\n",
    "    if data_frame_test[\"Power\"][i]==0:\n",
    "        data_frame_test[\"Power\"][i]=val"
   ]
  },
  {
   "cell_type": "code",
   "execution_count": 41,
   "metadata": {
    "colab": {},
    "colab_type": "code",
    "id": "GR6GgukAV7h7"
   },
   "outputs": [
    {
     "data": {
      "text/plain": [
       "Name                 0\n",
       "Location             0\n",
       "Year                 0\n",
       "Kilometers_Driven    0\n",
       "Fuel_Type            0\n",
       "Transmission         0\n",
       "Owner_Type           0\n",
       "Mileage              0\n",
       "Engine               0\n",
       "Power                0\n",
       "Seats                0\n",
       "dtype: int64"
      ]
     },
     "execution_count": 41,
     "metadata": {},
     "output_type": "execute_result"
    }
   ],
   "source": [
    "data_frame_test.isnull().sum()"
   ]
  },
  {
   "cell_type": "code",
   "execution_count": 42,
   "metadata": {
    "colab": {},
    "colab_type": "code",
    "id": "ZWDxs1pwX0tG"
   },
   "outputs": [
    {
     "name": "stdout",
     "output_type": "stream",
     "text": [
      "['Name', 'Location', 'Fuel_Type', 'Transmission', 'Owner_Type']\n"
     ]
    }
   ],
   "source": [
    "print(all_obj_train)"
   ]
  },
  {
   "cell_type": "code",
   "execution_count": 43,
   "metadata": {
    "colab": {},
    "colab_type": "code",
    "id": "OduoUqS4Y3ET"
   },
   "outputs": [
    {
     "name": "stdout",
     "output_type": "stream",
     "text": [
      "['Name', 'Location', 'Fuel_Type', 'Transmission', 'Owner_Type']\n"
     ]
    }
   ],
   "source": [
    "print(all_obj_test)"
   ]
  },
  {
   "cell_type": "code",
   "execution_count": 44,
   "metadata": {
    "colab": {},
    "colab_type": "code",
    "id": "WFGn_BT8Y9yB"
   },
   "outputs": [
    {
     "name": "stdout",
     "output_type": "stream",
     "text": [
      "Mahindra XUV500 W8 2WD                               49\n",
      "Maruti Swift VDI                                     45\n",
      "Honda City 1.5 S MT                                  34\n",
      "Maruti Swift Dzire VDI                               34\n",
      "Maruti Swift VDI BSIV                                31\n",
      "Maruti Ritz VDi                                      30\n",
      "Hyundai i10 Sportz                                   30\n",
      "Toyota Fortuner 3.0 Diesel                           29\n",
      "Hyundai Grand i10 Sportz                             27\n",
      "Honda Amaze S i-Dtech                                27\n",
      "Maruti Ertiga VDI                                    25\n",
      "Honda Brio S MT                                      25\n",
      "Honda City 1.5 V MT                                  24\n",
      "Maruti Wagon R VXI                                   23\n",
      "Hyundai Verna 1.6 SX                                 23\n",
      "Maruti Wagon R LXI                                   22\n",
      "Maruti Alto LXi                                      21\n",
      "Maruti Alto 800 LXI                                  20\n",
      "Maruti Ertiga ZDI                                    20\n",
      "Hyundai EON Era Plus                                 20\n",
      "BMW 3 Series 320d                                    20\n",
      "Skoda Superb Elegance 1.8 TSI AT                     20\n",
      "Maruti Celerio VXI AT                                19\n",
      "Hyundai i10 Magna 1.2                                19\n",
      "Toyota Fortuner 4x2 AT                               19\n",
      "Volkswagen Polo 1.5 TDI Highline                     18\n",
      "Hyundai i20 1.2 Magna                                18\n",
      "Maruti Wagon R LXI CNG                               18\n",
      "Volkswagen Polo 1.2 MPI Highline                     18\n",
      "Maruti Swift Dzire VXI                               18\n",
      "                                                     ..\n",
      "Ford EcoSport 1.5 TDCi Trend Plus                     1\n",
      "Audi A3 35 TDI Premium Plus                           1\n",
      "BMW X5 xDrive 30d Design Pure Experience 5 Seater     1\n",
      "Volvo XC90 2007-2015 D5 AWD                           1\n",
      "Hyundai Grand i10 1.2 CRDi Magna                      1\n",
      "Hyundai i10 Asta 1.2 AT with Sunroof                  1\n",
      "Maruti Omni MPI CARGO BSIII W/ IMMOBILISER            1\n",
      "Tata New Safari DICOR 2.2 VX 4x2                      1\n",
      "Fiat Petra 1.2 EL                                     1\n",
      "Mercedes-Benz E-Class 2015-2017 E350 Edition E        1\n",
      "Mahindra Scorpio S6 Plus 7 Seater                     1\n",
      "Porsche Cayenne 2009-2014 Turbo                       1\n",
      "Mercedes-Benz S Class 2005 2013 320 CDI               1\n",
      "Maruti Ritz VDI (ABS) BS IV                           1\n",
      "BMW 5 Series 2013-2017 525d Luxury Line               1\n",
      "Ford Figo Aspire 1.5 TDCi Trend                       1\n",
      "Ford EcoSport 1.5 Ti VCT MT Titanium                  1\n",
      "Hyundai i20 Diesel Asta Option                        1\n",
      "Mahindra KUV 100 G80 K8 Dual Tone                     1\n",
      "Ford Figo 2015-2019 1.5D Titanium Plus MT             1\n",
      "Fiat Grande Punto 1.2 Dynamic                         1\n",
      "Mahindra Xylo D2 Maxx                                 1\n",
      "Datsun redi-GO T                                      1\n",
      "Hyundai Verna CRDi SX ABS                             1\n",
      "Fiat Grande Punto 1.3 Emotion Pack (Diesel)           1\n",
      "Chevrolet Sail Hatchback 1.2 LS ABS                   1\n",
      "Chevrolet Optra Magnum 2.0 LS BSIII                   1\n",
      "Mitsubishi Pajero 4X4 LHD                             1\n",
      "Maruti S-Cross Alpha DDiS 200 SH                      1\n",
      "Renault Pulse Petrol RxL                              1\n",
      "Name: Name, Length: 1876, dtype: int64\n",
      "Mumbai        790\n",
      "Hyderabad     742\n",
      "Kochi         651\n",
      "Coimbatore    636\n",
      "Pune          622\n",
      "Delhi         554\n",
      "Kolkata       535\n",
      "Chennai       494\n",
      "Jaipur        413\n",
      "Bangalore     358\n",
      "Ahmedabad     224\n",
      "Name: Location, dtype: int64\n",
      "Diesel      3205\n",
      "Petrol      2746\n",
      "CNG           56\n",
      "LPG           10\n",
      "Electric       2\n",
      "Name: Fuel_Type, dtype: int64\n",
      "Manual       4299\n",
      "Automatic    1720\n",
      "Name: Transmission, dtype: int64\n",
      "First             4929\n",
      "Second             968\n",
      "Third              113\n",
      "Fourth & Above       9\n",
      "Name: Owner_Type, dtype: int64\n"
     ]
    }
   ],
   "source": [
    "for item in all_obj_train:\n",
    "    print(data_frame_train[item].value_counts())"
   ]
  },
  {
   "cell_type": "code",
   "execution_count": 45,
   "metadata": {
    "colab": {},
    "colab_type": "code",
    "id": "Sta_WDw3ZPJB"
   },
   "outputs": [
    {
     "name": "stdout",
     "output_type": "stream",
     "text": [
      "Maruti Alto LXi                                   9\n",
      "Volkswagen Polo 1.2 MPI Highline                  8\n",
      "Maruti Swift Dzire VDI                            8\n",
      "Honda City 1.5 V MT                               8\n",
      "Hyundai i10 Sportz 1.2                            7\n",
      "Maruti Alto 800 2016-2019 LXI                     7\n",
      "Maruti Wagon R LXI                                7\n",
      "Honda Brio S MT                                   7\n",
      "Audi A6 2011-2015 2.0 TDI Premium Plus            7\n",
      "Hyundai i10 Magna                                 7\n",
      "Mitsubishi Pajero Sport 4X2 AT                    6\n",
      "Mahindra XUV500 W8 2WD                            6\n",
      "Honda City 1.5 E MT                               6\n",
      "Hyundai i20 Magna                                 6\n",
      "Maruti Swift VDI BSIV                             6\n",
      "Maruti Swift Dzire VXi                            6\n",
      "Hyundai Santro Xing GLS                           6\n",
      "Nissan Micra Diesel XV                            6\n",
      "Hyundai Creta 1.6 CRDi SX                         6\n",
      "Toyota Fortuner 3.0 Diesel                        6\n",
      "Honda City 1.5 S MT                               5\n",
      "Honda Amaze S i-Dtech                             5\n",
      "Hyundai EON Era Plus                              5\n",
      "Hyundai Grand i10 Asta Option                     5\n",
      "Honda Amaze S i-Vtech                             5\n",
      "Maruti Ritz LDi                                   5\n",
      "Hyundai Grand i10 Sportz                          5\n",
      "BMW 5 Series 2013-2017 520d Luxury Line           5\n",
      "Audi A4 2.0 TDI                                   5\n",
      "Maruti Ertiga VXI                                 5\n",
      "                                                 ..\n",
      "Maruti Ertiga VXI Petrol                          1\n",
      "Toyota Innova Crysta 2.4 ZX MT                    1\n",
      "Hyundai i20 1.4 CRDi Asta                         1\n",
      "Chevrolet Enjoy 1.4 LTZ 8                         1\n",
      "Hyundai Verna Transform VTVT with Audio           1\n",
      "Tata Tigor 1.2 Revotron XT                        1\n",
      "Maruti Vitara Brezza ZDi AMT                      1\n",
      "Jaguar XF Diesel                                  1\n",
      "Honda Amaze VX CVT i-VTEC                         1\n",
      "Hyundai i20 1.2 Magna                             1\n",
      "Hyundai Elantra 2.0 SX Option AT                  1\n",
      "Ford Ikon 1.3 Flair                               1\n",
      "Maruti Wagon R Stingray LXI                       1\n",
      "Hyundai i20 1.2 Era                               1\n",
      "Honda Accord VTi-L AT                             1\n",
      "Hyundai i10 Sportz                                1\n",
      "Mercedes-Benz E-Class 2015-2017 E250 Edition E    1\n",
      "Hyundai Accent CRDi                               1\n",
      "Nissan Sunny 2011-2014 Diesel XL                  1\n",
      "Mercedes-Benz New C-Class C 250 CDI Avantgarde    1\n",
      "Ford Fiesta 1.4 SXi TDCi ABS                      1\n",
      "Mahindra TUV 300 P4                               1\n",
      "Fiat Abarth 595 Competizione                      1\n",
      "Maruti Ertiga ZXI                                 1\n",
      "Maruti Ritz VDi ABS                               1\n",
      "Hyundai Elite i20 Petrol Sportz                   1\n",
      "Audi Q5 2008-2012 3.0 TDI Quattro                 1\n",
      "Toyota Innova Crysta 2.4 VX MT 8S                 1\n",
      "Isuzu MU 7 4x2 HIPACK                             1\n",
      "Hyundai Grand i10 1.2 Kappa Magna                 1\n",
      "Name: Name, Length: 768, dtype: int64\n",
      "Mumbai        159\n",
      "Pune          143\n",
      "Coimbatore    136\n",
      "Hyderabad     134\n",
      "Kochi         121\n",
      "Kolkata       119\n",
      "Delhi         106\n",
      "Chennai        97\n",
      "Jaipur         86\n",
      "Bangalore      82\n",
      "Ahmedabad      51\n",
      "Name: Location, dtype: int64\n",
      "Diesel    647\n",
      "Petrol    579\n",
      "CNG         6\n",
      "LPG         2\n",
      "Name: Fuel_Type, dtype: int64\n",
      "Manual       905\n",
      "Automatic    329\n",
      "Name: Transmission, dtype: int64\n",
      "First             1023\n",
      "Second             184\n",
      "Third               24\n",
      "Fourth & Above       3\n",
      "Name: Owner_Type, dtype: int64\n"
     ]
    }
   ],
   "source": [
    "for item in all_obj_test:\n",
    "    print(data_frame_test[item].value_counts())"
   ]
  },
  {
   "cell_type": "code",
   "execution_count": 46,
   "metadata": {},
   "outputs": [],
   "source": [
    "#Car names are converted to company names"
   ]
  },
  {
   "cell_type": "code",
   "execution_count": 47,
   "metadata": {},
   "outputs": [],
   "source": [
    "names=list(data_frame_train[\"Name\"])\n",
    "name_replace=[]\n",
    "for item in names:\n",
    "    name_replace.append(item.split()[0])\n",
    "data_frame_train[\"Name\"]=name_replace"
   ]
  },
  {
   "cell_type": "code",
   "execution_count": 48,
   "metadata": {},
   "outputs": [
    {
     "data": {
      "text/plain": [
       "Maruti           1211\n",
       "Hyundai          1107\n",
       "Honda             608\n",
       "Toyota            411\n",
       "Mercedes-Benz     318\n",
       "Volkswagen        315\n",
       "Ford              300\n",
       "Mahindra          272\n",
       "BMW               267\n",
       "Audi              236\n",
       "Tata              186\n",
       "Skoda             173\n",
       "Renault           145\n",
       "Chevrolet         121\n",
       "Nissan             91\n",
       "Land               60\n",
       "Jaguar             40\n",
       "Fiat               28\n",
       "Mitsubishi         27\n",
       "Mini               26\n",
       "Volvo              21\n",
       "Porsche            18\n",
       "Jeep               15\n",
       "Datsun             13\n",
       "Force               3\n",
       "ISUZU               2\n",
       "Isuzu               1\n",
       "Lamborghini         1\n",
       "Bentley             1\n",
       "Smart               1\n",
       "Ambassador          1\n",
       "Name: Name, dtype: int64"
      ]
     },
     "execution_count": 48,
     "metadata": {},
     "output_type": "execute_result"
    }
   ],
   "source": [
    "data_frame_train[\"Name\"].value_counts()"
   ]
  },
  {
   "cell_type": "code",
   "execution_count": 49,
   "metadata": {},
   "outputs": [],
   "source": [
    "names=list(data_frame_test[\"Name\"])\n",
    "name_replace=[]\n",
    "for item in names:\n",
    "    name_replace.append(item.split()[0])\n",
    "data_frame_test[\"Name\"]=name_replace"
   ]
  },
  {
   "cell_type": "code",
   "execution_count": 50,
   "metadata": {},
   "outputs": [
    {
     "data": {
      "text/plain": [
       "Maruti           233\n",
       "Hyundai          233\n",
       "Honda            135\n",
       "Toyota            96\n",
       "Mercedes-Benz     62\n",
       "Volkswagen        59\n",
       "Mahindra          59\n",
       "Ford              51\n",
       "Audi              49\n",
       "BMW               45\n",
       "Tata              42\n",
       "Chevrolet         30\n",
       "Skoda             29\n",
       "Nissan            26\n",
       "Renault           25\n",
       "Fiat              10\n",
       "Mitsubishi         9\n",
       "Jaguar             8\n",
       "Volvo              7\n",
       "Land               7\n",
       "Mini               5\n",
       "Datsun             4\n",
       "Jeep               4\n",
       "Bentley            1\n",
       "ISUZU              1\n",
       "Hindustan          1\n",
       "Porsche            1\n",
       "OpelCorsa          1\n",
       "Isuzu              1\n",
       "Name: Name, dtype: int64"
      ]
     },
     "execution_count": 50,
     "metadata": {},
     "output_type": "execute_result"
    }
   ],
   "source": [
    "data_frame_test[\"Name\"].value_counts()"
   ]
  },
  {
   "cell_type": "code",
   "execution_count": 51,
   "metadata": {},
   "outputs": [
    {
     "data": {
      "text/plain": [
       "Name                  object\n",
       "Location              object\n",
       "Year                   int64\n",
       "Kilometers_Driven      int64\n",
       "Fuel_Type             object\n",
       "Transmission          object\n",
       "Owner_Type            object\n",
       "Mileage              float64\n",
       "Engine                 int64\n",
       "Power                float64\n",
       "Seats                float64\n",
       "Price                float64\n",
       "dtype: object"
      ]
     },
     "execution_count": 51,
     "metadata": {},
     "output_type": "execute_result"
    }
   ],
   "source": [
    "#checking type conversions are satisfied or not\n",
    "data_frame_train.dtypes"
   ]
  },
  {
   "cell_type": "code",
   "execution_count": 52,
   "metadata": {},
   "outputs": [
    {
     "data": {
      "text/plain": [
       "Name                  object\n",
       "Location              object\n",
       "Year                   int64\n",
       "Kilometers_Driven      int64\n",
       "Fuel_Type             object\n",
       "Transmission          object\n",
       "Owner_Type            object\n",
       "Mileage               object\n",
       "Engine               float64\n",
       "Power                float64\n",
       "Seats                float64\n",
       "dtype: object"
      ]
     },
     "execution_count": 52,
     "metadata": {},
     "output_type": "execute_result"
    }
   ],
   "source": [
    "data_frame_test.dtypes"
   ]
  },
  {
   "cell_type": "markdown",
   "metadata": {},
   "source": [
    "# Training Models\n",
    "\n",
    "Here I'm Using 2 Models for predicting price of the cars. \n",
    "1. KNN\n",
    "2. Random Forest\n",
    "\n",
    "The values predicted in these three models are taken individually and based on the score generated by the models, we are using ensembling to get the corrected prediction values"
   ]
  },
  {
   "cell_type": "code",
   "execution_count": 53,
   "metadata": {},
   "outputs": [],
   "source": [
    "#generating dummies\n",
    "indep_var=data_frame_train.drop([\"Price\"],axis=1)\n",
    "dep_var=data_frame_train[\"Price\"]"
   ]
  },
  {
   "cell_type": "code",
   "execution_count": 54,
   "metadata": {},
   "outputs": [],
   "source": [
    "indep_var=pd.get_dummies(indep_var)"
   ]
  },
  {
   "cell_type": "code",
   "execution_count": 55,
   "metadata": {},
   "outputs": [
    {
     "data": {
      "text/html": [
       "<div>\n",
       "<style scoped>\n",
       "    .dataframe tbody tr th:only-of-type {\n",
       "        vertical-align: middle;\n",
       "    }\n",
       "\n",
       "    .dataframe tbody tr th {\n",
       "        vertical-align: top;\n",
       "    }\n",
       "\n",
       "    .dataframe thead th {\n",
       "        text-align: right;\n",
       "    }\n",
       "</style>\n",
       "<table border=\"1\" class=\"dataframe\">\n",
       "  <thead>\n",
       "    <tr style=\"text-align: right;\">\n",
       "      <th></th>\n",
       "      <th>Year</th>\n",
       "      <th>Kilometers_Driven</th>\n",
       "      <th>Mileage</th>\n",
       "      <th>Engine</th>\n",
       "      <th>Power</th>\n",
       "      <th>Seats</th>\n",
       "      <th>Name_Ambassador</th>\n",
       "      <th>Name_Audi</th>\n",
       "      <th>Name_BMW</th>\n",
       "      <th>Name_Bentley</th>\n",
       "      <th>...</th>\n",
       "      <th>Fuel_Type_Diesel</th>\n",
       "      <th>Fuel_Type_Electric</th>\n",
       "      <th>Fuel_Type_LPG</th>\n",
       "      <th>Fuel_Type_Petrol</th>\n",
       "      <th>Transmission_Automatic</th>\n",
       "      <th>Transmission_Manual</th>\n",
       "      <th>Owner_Type_First</th>\n",
       "      <th>Owner_Type_Fourth &amp; Above</th>\n",
       "      <th>Owner_Type_Second</th>\n",
       "      <th>Owner_Type_Third</th>\n",
       "    </tr>\n",
       "  </thead>\n",
       "  <tbody>\n",
       "    <tr>\n",
       "      <th>0</th>\n",
       "      <td>2010</td>\n",
       "      <td>72000</td>\n",
       "      <td>26.60</td>\n",
       "      <td>998</td>\n",
       "      <td>58.16</td>\n",
       "      <td>5.0</td>\n",
       "      <td>0</td>\n",
       "      <td>0</td>\n",
       "      <td>0</td>\n",
       "      <td>0</td>\n",
       "      <td>...</td>\n",
       "      <td>0</td>\n",
       "      <td>0</td>\n",
       "      <td>0</td>\n",
       "      <td>0</td>\n",
       "      <td>0</td>\n",
       "      <td>1</td>\n",
       "      <td>1</td>\n",
       "      <td>0</td>\n",
       "      <td>0</td>\n",
       "      <td>0</td>\n",
       "    </tr>\n",
       "    <tr>\n",
       "      <th>1</th>\n",
       "      <td>2015</td>\n",
       "      <td>41000</td>\n",
       "      <td>19.67</td>\n",
       "      <td>1582</td>\n",
       "      <td>126.20</td>\n",
       "      <td>5.0</td>\n",
       "      <td>0</td>\n",
       "      <td>0</td>\n",
       "      <td>0</td>\n",
       "      <td>0</td>\n",
       "      <td>...</td>\n",
       "      <td>1</td>\n",
       "      <td>0</td>\n",
       "      <td>0</td>\n",
       "      <td>0</td>\n",
       "      <td>0</td>\n",
       "      <td>1</td>\n",
       "      <td>1</td>\n",
       "      <td>0</td>\n",
       "      <td>0</td>\n",
       "      <td>0</td>\n",
       "    </tr>\n",
       "    <tr>\n",
       "      <th>2</th>\n",
       "      <td>2011</td>\n",
       "      <td>46000</td>\n",
       "      <td>18.20</td>\n",
       "      <td>1199</td>\n",
       "      <td>88.70</td>\n",
       "      <td>5.0</td>\n",
       "      <td>0</td>\n",
       "      <td>0</td>\n",
       "      <td>0</td>\n",
       "      <td>0</td>\n",
       "      <td>...</td>\n",
       "      <td>0</td>\n",
       "      <td>0</td>\n",
       "      <td>0</td>\n",
       "      <td>1</td>\n",
       "      <td>0</td>\n",
       "      <td>1</td>\n",
       "      <td>1</td>\n",
       "      <td>0</td>\n",
       "      <td>0</td>\n",
       "      <td>0</td>\n",
       "    </tr>\n",
       "    <tr>\n",
       "      <th>3</th>\n",
       "      <td>2012</td>\n",
       "      <td>87000</td>\n",
       "      <td>20.77</td>\n",
       "      <td>1248</td>\n",
       "      <td>88.76</td>\n",
       "      <td>7.0</td>\n",
       "      <td>0</td>\n",
       "      <td>0</td>\n",
       "      <td>0</td>\n",
       "      <td>0</td>\n",
       "      <td>...</td>\n",
       "      <td>1</td>\n",
       "      <td>0</td>\n",
       "      <td>0</td>\n",
       "      <td>0</td>\n",
       "      <td>0</td>\n",
       "      <td>1</td>\n",
       "      <td>1</td>\n",
       "      <td>0</td>\n",
       "      <td>0</td>\n",
       "      <td>0</td>\n",
       "    </tr>\n",
       "    <tr>\n",
       "      <th>4</th>\n",
       "      <td>2013</td>\n",
       "      <td>40670</td>\n",
       "      <td>15.20</td>\n",
       "      <td>1968</td>\n",
       "      <td>140.80</td>\n",
       "      <td>5.0</td>\n",
       "      <td>0</td>\n",
       "      <td>1</td>\n",
       "      <td>0</td>\n",
       "      <td>0</td>\n",
       "      <td>...</td>\n",
       "      <td>1</td>\n",
       "      <td>0</td>\n",
       "      <td>0</td>\n",
       "      <td>0</td>\n",
       "      <td>1</td>\n",
       "      <td>0</td>\n",
       "      <td>0</td>\n",
       "      <td>0</td>\n",
       "      <td>1</td>\n",
       "      <td>0</td>\n",
       "    </tr>\n",
       "  </tbody>\n",
       "</table>\n",
       "<p>5 rows × 59 columns</p>\n",
       "</div>"
      ],
      "text/plain": [
       "   Year  Kilometers_Driven  Mileage  Engine   Power  Seats  Name_Ambassador  \\\n",
       "0  2010              72000    26.60     998   58.16    5.0                0   \n",
       "1  2015              41000    19.67    1582  126.20    5.0                0   \n",
       "2  2011              46000    18.20    1199   88.70    5.0                0   \n",
       "3  2012              87000    20.77    1248   88.76    7.0                0   \n",
       "4  2013              40670    15.20    1968  140.80    5.0                0   \n",
       "\n",
       "   Name_Audi  Name_BMW  Name_Bentley  ...  Fuel_Type_Diesel  \\\n",
       "0          0         0             0  ...                 0   \n",
       "1          0         0             0  ...                 1   \n",
       "2          0         0             0  ...                 0   \n",
       "3          0         0             0  ...                 1   \n",
       "4          1         0             0  ...                 1   \n",
       "\n",
       "   Fuel_Type_Electric  Fuel_Type_LPG  Fuel_Type_Petrol  \\\n",
       "0                   0              0                 0   \n",
       "1                   0              0                 0   \n",
       "2                   0              0                 1   \n",
       "3                   0              0                 0   \n",
       "4                   0              0                 0   \n",
       "\n",
       "   Transmission_Automatic  Transmission_Manual  Owner_Type_First  \\\n",
       "0                       0                    1                 1   \n",
       "1                       0                    1                 1   \n",
       "2                       0                    1                 1   \n",
       "3                       0                    1                 1   \n",
       "4                       1                    0                 0   \n",
       "\n",
       "   Owner_Type_Fourth & Above  Owner_Type_Second  Owner_Type_Third  \n",
       "0                          0                  0                 0  \n",
       "1                          0                  0                 0  \n",
       "2                          0                  0                 0  \n",
       "3                          0                  0                 0  \n",
       "4                          0                  1                 0  \n",
       "\n",
       "[5 rows x 59 columns]"
      ]
     },
     "execution_count": 55,
     "metadata": {},
     "output_type": "execute_result"
    }
   ],
   "source": [
    "indep_var.head()"
   ]
  },
  {
   "cell_type": "code",
   "execution_count": 56,
   "metadata": {},
   "outputs": [],
   "source": [
    "from sklearn.model_selection import train_test_split"
   ]
  },
  {
   "cell_type": "code",
   "execution_count": 57,
   "metadata": {},
   "outputs": [],
   "source": [
    "train_x,valid_x,train_y,valid_y=train_test_split(indep_var,dep_var,random_state=42)"
   ]
  },
  {
   "cell_type": "code",
   "execution_count": 58,
   "metadata": {},
   "outputs": [],
   "source": [
    "#Using Random Forest\n",
    "from sklearn.ensemble import RandomForestRegressor"
   ]
  },
  {
   "cell_type": "code",
   "execution_count": 65,
   "metadata": {},
   "outputs": [],
   "source": [
    "rf_model=RandomForestRegressor(n_estimators=17)"
   ]
  },
  {
   "cell_type": "code",
   "execution_count": 66,
   "metadata": {},
   "outputs": [
    {
     "data": {
      "text/plain": [
       "RandomForestRegressor(bootstrap=True, criterion='mse', max_depth=None,\n",
       "           max_features='auto', max_leaf_nodes=None,\n",
       "           min_impurity_decrease=0.0, min_impurity_split=None,\n",
       "           min_samples_leaf=1, min_samples_split=2,\n",
       "           min_weight_fraction_leaf=0.0, n_estimators=17, n_jobs=None,\n",
       "           oob_score=False, random_state=None, verbose=0, warm_start=False)"
      ]
     },
     "execution_count": 66,
     "metadata": {},
     "output_type": "execute_result"
    }
   ],
   "source": [
    "rf_model.fit(train_x,train_y)"
   ]
  },
  {
   "cell_type": "code",
   "execution_count": 67,
   "metadata": {},
   "outputs": [
    {
     "data": {
      "text/plain": [
       "0.8893373575650619"
      ]
     },
     "execution_count": 67,
     "metadata": {},
     "output_type": "execute_result"
    }
   ],
   "source": [
    "rf_model.score(valid_x,valid_y)"
   ]
  },
  {
   "cell_type": "code",
   "execution_count": 87,
   "metadata": {},
   "outputs": [
    {
     "name": "stdout",
     "output_type": "stream",
     "text": [
      "[10, 11, 12, 13, 14, 15, 16, 17, 18, 19, 20, 21, 22, 23, 24, 25, 26, 27, 28, 29, 30, 31, 32, 33, 34, 35, 36, 37, 38, 39, 40, 41, 42, 43, 44, 45, 46, 47, 48, 49]\n",
      "10\n",
      "11\n",
      "12\n",
      "13\n",
      "14\n",
      "15\n",
      "16\n",
      "17\n",
      "18\n",
      "19\n",
      "20\n",
      "21\n",
      "22\n",
      "23\n",
      "24\n",
      "25\n",
      "26\n",
      "27\n",
      "28\n",
      "29\n",
      "30\n",
      "31\n",
      "32\n",
      "33\n",
      "34\n",
      "35\n",
      "36\n",
      "37\n",
      "38\n",
      "39\n",
      "40\n",
      "41\n",
      "42\n",
      "43\n",
      "44\n",
      "45\n",
      "46\n",
      "47\n",
      "48\n",
      "49\n"
     ]
    }
   ],
   "source": [
    "#changing some of the parameters in the model for improving the validation score/\n",
    "#n_estimators check\n",
    "n_est=list(range(10,50))\n",
    "#print(n_est)\n",
    "val=[]\n",
    "for item in n_est:\n",
    "    #print(item)\n",
    "    rf_model=RandomForestRegressor(n_estimators=item)\n",
    "    rf_model.fit(train_x,train_y)\n",
    "    val.append(rf_model.score(valid_x,valid_y))"
   ]
  },
  {
   "cell_type": "code",
   "execution_count": 88,
   "metadata": {},
   "outputs": [
    {
     "data": {
      "text/plain": [
       "Text(0.5, 1.0, 'No of Trees vs Score Generated')"
      ]
     },
     "execution_count": 88,
     "metadata": {},
     "output_type": "execute_result"
    },
    {
     "data": {
      "image/png": "[encoded data removed]",
      "text/plain": [
       "<Figure size 800x600 with 1 Axes>"
      ]
     },
     "metadata": {
      "needs_background": "light"
     },
     "output_type": "display_data"
    }
   ],
   "source": [
    "plt.figure(figsize=(8,6),dpi=100)\n",
    "plt.plot(n_est,val)\n",
    "plt.xlabel('No of Trees')\n",
    "plt.ylabel('Score Obtained')\n",
    "plt.title('No of Trees vs Score Generated')"
   ]
  },
  {
   "cell_type": "code",
   "execution_count": 195,
   "metadata": {},
   "outputs": [],
   "source": [
    "#checking the score at n_estimators=22\n",
    "rf_model=RandomForestRegressor(n_estimators=22)\n",
    "rf_model.fit(train_x,train_y)\n",
    "rf_score=rf_model.score(valid_x,valid_y)"
   ]
  },
  {
   "cell_type": "code",
   "execution_count": 93,
   "metadata": {},
   "outputs": [],
   "source": [
    "#storing pred_values for random_forest\n",
    "rf_values=rf_model.predict(valid_x)"
   ]
  },
  {
   "cell_type": "code",
   "execution_count": 94,
   "metadata": {},
   "outputs": [
    {
     "name": "stdout",
     "output_type": "stream",
     "text": [
      "[ 5.69090909 12.83409091  7.87045455 ...  3.34090909  1.35636364\n",
      "  5.59863636]\n"
     ]
    }
   ],
   "source": [
    "print(rf_values)"
   ]
  },
  {
   "cell_type": "markdown",
   "metadata": {},
   "source": [
    "# KNN Estimation"
   ]
  },
  {
   "cell_type": "code",
   "execution_count": 181,
   "metadata": {},
   "outputs": [],
   "source": [
    "from sklearn.neighbors import KNeighborsRegressor\n",
    "from sklearn.preprocessing import MinMaxScaler\n",
    "from sklearn.model_selection import train_test_split\n",
    "from sklearn.metrics import mean_squared_error as mse"
   ]
  },
  {
   "cell_type": "code",
   "execution_count": 183,
   "metadata": {},
   "outputs": [],
   "source": [
    "scaler=MinMaxScaler()\n",
    "var=scaler.fit_transform(indep_var)\n",
    "indep_var=pd.DataFrame(var,columns=indep_var.columns)"
   ]
  },
  {
   "cell_type": "code",
   "execution_count": 184,
   "metadata": {},
   "outputs": [],
   "source": [
    "train_x,valid_x,train_y,valid_y=train_test_split(indep_var,dep_var,random_state=42)"
   ]
  },
  {
   "cell_type": "code",
   "execution_count": 185,
   "metadata": {},
   "outputs": [
    {
     "data": {
      "text/plain": [
       "0.7752338567696732"
      ]
     },
     "execution_count": 185,
     "metadata": {},
     "output_type": "execute_result"
    }
   ],
   "source": [
    "knn_reg=KNeighborsRegressor()\n",
    "knn_reg.fit(train_x,train_y)\n",
    "knn_reg.score(valid_x,valid_y)"
   ]
  },
  {
   "cell_type": "code",
   "execution_count": 186,
   "metadata": {},
   "outputs": [
    {
     "name": "stdout",
     "output_type": "stream",
     "text": [
      "2\n",
      "3\n",
      "4\n",
      "5\n",
      "6\n",
      "7\n",
      "8\n",
      "9\n",
      "10\n",
      "11\n",
      "12\n",
      "13\n",
      "14\n",
      "15\n",
      "16\n",
      "17\n",
      "18\n",
      "19\n"
     ]
    }
   ],
   "source": [
    "#we need to improve the score\n",
    "#Checking k appropriate k value using score\n",
    "k_val=list(range(2,20))\n",
    "val=[]\n",
    "for item in k_val:\n",
    "    #print(item)\n",
    "    knn_reg=KNeighborsRegressor(n_neighbors=item)\n",
    "    knn_reg.fit(train_x,train_y)\n",
    "    pred_val=knn_reg.predict(valid_x)\n",
    "    error=mse(pred_val,valid_y)\n",
    "    val.append(error)"
   ]
  },
  {
   "cell_type": "code",
   "execution_count": 187,
   "metadata": {},
   "outputs": [
    {
     "data": {
      "image/png": "[encoded data removed]",
      "text/plain": [
       "<Figure size 800x600 with 1 Axes>"
      ]
     },
     "metadata": {
      "needs_background": "light"
     },
     "output_type": "display_data"
    }
   ],
   "source": [
    "plt.figure(figsize=(8,6),dpi=100)\n",
    "plt.plot(k_val,val)\n",
    "plt.xlabel('K-Value')\n",
    "plt.ylabel('Error Generated')\n",
    "plt.title('K-value vs error (elbow curve)')\n",
    "plt.show()"
   ]
  },
  {
   "cell_type": "code",
   "execution_count": 196,
   "metadata": {},
   "outputs": [
    {
     "name": "stdout",
     "output_type": "stream",
     "text": [
      "Score Generated: 0.79131576481051\n"
     ]
    }
   ],
   "source": [
    "#at 8 we have the least error. So making our final model 8NN\n",
    "knn_reg=KNeighborsRegressor(n_neighbors=8)\n",
    "knn_reg.fit(train_x,train_y)\n",
    "knn_pre=knn_reg.predict(valid_x)\n",
    "knn_score=knn_reg.score(valid_x,valid_y)\n",
    "print('Score Generated:',knn_score)"
   ]
  },
  {
   "cell_type": "markdown",
   "metadata": {},
   "source": [
    "# Observations:\n",
    "\n",
    "1. rf_values and knn_pre contains the prediction values of validation \n",
    "2. rf_score,knn_score has the score of the model\n",
    "3. we need to use ensembling to improve predictions. I'm going to use rank avaraging method.\n",
    "4. As random forest has high score, rank of random forest=2 and knn with rank=1\n"
   ]
  },
  {
   "cell_type": "code",
   "execution_count": 197,
   "metadata": {},
   "outputs": [],
   "source": [
    "#weight of knn be 1 and weight of random forest is 2"
   ]
  },
  {
   "cell_type": "code",
   "execution_count": 198,
   "metadata": {},
   "outputs": [],
   "source": [
    "rf_mul_factor=2/(1+2)"
   ]
  },
  {
   "cell_type": "code",
   "execution_count": 199,
   "metadata": {},
   "outputs": [],
   "source": [
    "knn_mul_factor=1/(1+2)"
   ]
  },
  {
   "cell_type": "code",
   "execution_count": 211,
   "metadata": {},
   "outputs": [],
   "source": [
    "rf_values=list(rf_values)\n",
    "knn_pre=list(knn_pre)"
   ]
  },
  {
   "cell_type": "code",
   "execution_count": 215,
   "metadata": {},
   "outputs": [],
   "source": [
    "final_ans=[]\n",
    "for i in range(0,len(knn_pre)):\n",
    "    final_ans.append(rf_values[i]*rf_mul_factor+knn_pre[i]*knn_mul_factor)"
   ]
  },
  {
   "cell_type": "code",
   "execution_count": 216,
   "metadata": {},
   "outputs": [
    {
     "name": "stdout",
     "output_type": "stream",
     "text": [
      "[5.453939393939395, 12.372727272727273, 8.350719696969696, 2.565378787878788, 2.837727272727273, 4.217007575757576, 5.234166666666667, 4.140984848484848, 9.702121212121213, 4.073484848484848, 20.834734848484846, 4.263295454545454, 2.0491666666666664, 19.581325757575755, 4.909128787878787, 3.2679924242424243, 3.262613636363636, 7.225871212121211, 33.32102272727273, 6.335454545454544, 7.248143939393938, 8.047651515151514, 3.98375, 9.93280303030303, 5.521022727272727, 42.46946969696969, 9.776477272727274, 9.432045454545452, 19.454734848484847, 6.107386363636364, 30.13969696969697, 1.9655681818181812, 1.9327651515151514, 2.6670454545454545, 26.134962121212116, 7.97340909090909, 30.834886363636365, 4.480416666666667, 17.778143939393935, 3.515568181818182, 6.552954545454545, 7.61628787878788, 8.795454545454547, 5.852386363636361, 26.259204545454544, 17.056022727272726, 6.365530303030303, 29.083295454545457, 12.970416666666665, 6.01685606060606, 3.9692045454545455, 4.559962121212122, 3.923787878787879, 12.000681818181818, 1.7638257575757577, 11.520492424242423, 14.007045454545453, 6.197916666666666, 42.65431818181818, 9.127310606060604, 1.5499999999999998, 4.766287878787878, 1.4851515151515153, 32.04757575757576, 5.866742424242425, 9.745416666666667, 3.470909090909091, 13.615075757575756, 29.89984848484848, 2.003636363636364, 16.80969696969697, 5.414848484848484, 2.2170454545454543, 22.449583333333337, 4.388446969696968, 4.571363636363635, 24.103901515151517, 5.217689393939394, 5.0797727272727276, 5.646628787878789, 5.022310606060606, 4.845568181818182, 3.513901515151515, 4.94560606060606, 4.586515151515151, 30.289393939393932, 42.72147727272728, 11.344242424242424, 5.532121212121211, 18.35246212121212, 3.4918560606060605, 5.677007575757575, 28.14412878787879, 6.068636363636363, 3.4074242424242414, 3.2765151515151514, 3.1988636363636362, 5.345909090909091, 7.282878787878788, 3.1518181818181823, 4.655037878787879, 2.824583333333333, 10.946098484848484, 6.081401515151515, 4.474810606060606, 5.539393939393939, 2.8514393939393936, 5.176401515151515, 1.6182575757575755, 3.90405303030303, 3.096098484848484, 6.717878787878788, 3.545568181818182, 4.77314393939394, 3.639053030303031, 8.452651515151516, 2.278257575757576, 5.704621212121212, 1.323863636363636, 1.8579545454545454, 2.020681818181818, 2.2275, 5.008560606060606, 4.821818181818181, 2.0046212121212124, 8.812462121212121, 4.501250000000001, 6.277537878787879, 3.2234090909090902, 4.894053030303031, 5.36939393939394, 33.87738636363636, 1.3588257575757576, 3.9007196969696967, 11.759999999999998, 10.445416666666667, 3.534242424242425, 6.174962121212121, 4.491022727272727, 3.9220454545454544, 2.8496590909090904, 8.735795454545453, 2.5810227272727273, 7.589696969696969, 7.920075757575756, 5.502083333333334, 4.343257575757575, 2.357916666666667, 3.0506060606060608, 3.3271969696969697, 5.075075757575757, 5.35094696969697, 5.366666666666667, 4.519053030303031, 67.61776515151516, 33.0544696969697, 5.014318181818182, 3.497159090909091, 3.918257575757576, 3.4748484848484846, 5.388560606060605, 2.005151515151515, 5.369469696969697, 6.736628787878788, 5.664128787878788, 1.5872348484848482, 5.928977272727273, 3.956704545454545, 22.473181818181818, 33.45674242424242, 28.302424242424234, 2.278257575757576, 5.35064393939394, 5.3654166666666665, 4.334659090909091, 3.4786742424242423, 4.096590909090908, 3.876212121212121, 2.3910984848484844, 4.475416666666667, 4.753636363636364, 2.6667424242424245, 20.3430303030303, 4.812424242424242, 3.9368181818181807, 2.6625757575757576, 5.377007575757576, 7.965984848484848, 2.280795454545454, 6.487083333333333, 6.150151515151515, 2.78625, 3.062954545454546, 12.368598484848485, 20.455643939393937, 1.4492045454545455, 9.849166666666665, 5.273901515151515, 17.508598484848484, 4.640606060606061, 2.0704166666666666, 3.8871969696969693, 6.637689393939393, 29.590530303030306, 18.12560606060606, 37.733371212121206, 7.780340909090909, 7.419810606060606, 3.971022727272727, 4.378143939393938, 4.2875, 3.663484848484849, 7.602121212121213, 17.745984848484845, 13.562424242424242, 4.385606060606061, 5.011818181818182, 3.4712499999999995, 11.232386363636362, 3.2163257575757576, 3.2244318181818183, 8.917121212121213, 6.617424242424242, 12.399431818181817, 4.194053030303031, 3.4673863636363635, 5.943977272727272, 23.496666666666663, 2.873068181818182, 35.0739393939394, 6.302348484848484, 24.108181818181816, 6.889128787878787, 38.892613636363635, 23.580681818181816, 3.770871212121212, 2.0679545454545454, 5.356742424242424, 4.324848484848485, 7.004469696969696, 9.308825757575754, 13.25473484848485, 19.935037878787874, 2.6656060606060605, 3.591628787878789, 14.541666666666666, 2.1596969696969692, 3.8288636363636366, 27.64212121212121, 18.260075757575756, 6.056439393939393, 4.306174242424243, 20.055227272727272, 7.105795454545453, 4.183712121212121, 6.889015151515152, 6.267424242424243, 8.015303030303027, 7.4460227272727275, 6.814886363636364, 6.1477272727272725, 4.253333333333333, 1.8656060606060605, 5.62814393939394, 10.960946969696968, 3.1278030303030295, 2.6270454545454545, 4.751060606060606, 9.763825757575756, 6.228143939393939, 7.099431818181818, 25.53530303030303, 6.169280303030304, 20.724128787878787, 8.716325757575756, 3.4075378787878785, 5.637537878787878, 19.43397727272727, 9.840681818181817, 42.34659090909091, 6.244015151515152, 1.5885858585858585, 4.5527651515151515, 3.7979924242424246, 17.38465909090909, 41.021893939393934, 14.529545454545453, 6.311969696969697, 9.858143939393937, 8.08212121212121, 8.907045454545454, 9.478446969696968, 20.875378787878788, 3.2531439393939396, 4.122878787878787, 4.94969696969697, 5.852386363636361, 9.838333333333335, 19.5467803030303, 16.45128787878788, 19.54431818181818, 4.360378787878789, 17.400492424242422, 7.627575757575758, 2.1220454545454546, 8.741060606060607, 5.026969696969697, 6.876174242424241, 5.885530303030302, 2.5866666666666664, 11.54181818181818, 26.42314393939394, 14.18215909090909, 3.968333333333333, 3.831212121212121, 5.519962121212121, 12.174924242424243, 2.7218560606060604, 6.148522727272727, 10.533257575757574, 3.9223484848484844, 5.327424242424243, 5.880530303030303, 6.396325757575758, 5.986136363636364, 3.935416666666666, 4.076287878787878, 9.41212121212121, 3.5564015151515145, 30.934356060606056, 10.288409090909092, 37.71810606060606, 4.2313636363636355, 28.400454545454544, 21.893863636363637, 6.074583333333333, 2.336212121212121, 2.6986363636363637, 19.094734848484844, 4.617878787878787, 3.9202272727272733, 4.666628787878788, 4.233750000000001, 25.038371212121213, 5.706249999999999, 2.581515151515151, 38.98204545454546, 4.867575757575756, 9.895530303030302, 5.268901515151515, 3.92905303030303, 5.161022727272727, 4.364090909090908, 13.29651515151515, 4.763522727272726, 1.8525757575757575, 6.28409090909091, 4.497613636363636, 1.3205681818181818, 5.247689393939393, 2.568257575757576, 24.566515151515148, 5.837272727272726, 5.9475, 3.8678787878787877, 2.78530303030303, 4.047727272727273, 7.44689393939394, 5.237007575757574, 6.190075757575757, 2.8730303030303026, 28.652840909090905, 2.4421590909090907, 23.033484848484846, 5.8223863636363635, 4.727310606060606, 3.6062499999999993, 4.332272727272728, 1.5617803030303028, 6.801893939393938, 3.61564393939394, 11.74231060606061, 4.7505303030303025, 1.2954166666666667, 30.48204545454545, 6.345681818181818, 4.752386363636363, 5.791704545454545, 8.319924242424243, 20.640227272727273, 4.195643939393939, 12.550037878787876, 1.0736363636363637, 3.1842045454545453, 11.488030303030301, 6.0731439393939395, 18.63685606060606, 2.439962121212121, 4.274128787878789, 33.88181818181818, 2.372689393939394, 27.66439393939394, 24.50378787878788, 8.582121212121212, 1.6882575757575755, 2.118636363636363, 15.225568181818181, 4.535227272727273, 10.468560606060606, 3.094621212121212, 4.404924242424243, 51.14488636363636, 2.712537878787879, 27.321628787878787, 4.19840909090909, 38.057348484848475, 7.500757575757574, 3.5524242424242423, 3.515075757575757, 3.529810606060606, 5.515378787878788, 3.3113636363636356, 5.995037878787879, 2.8805303030303033, 2.6056060606060605, 9.823106060606062, 5.440075757575758, 6.097651515151515, 5.0941287878787875, 11.789280303030303, 4.926477272727272, 18.640871212121212, 3.7775000000000003, 5.717727272727272, 5.709734848484848, 4.766818181818181, 19.560795454545456, 4.54469696969697, 10.891893939393938, 10.962007575757578, 5.137348484848484, 45.382045454545455, 6.7161363636363625, 4.760378787878787, 8.653825757575758, 2.890075757575758, 25.879924242424245, 15.860757575757576, 28.832196969696962, 9.262310606060606, 3.203371212121212, 3.7844696969696967, 4.804659090909091, 39.80674242424242, 3.239734848484848, 5.950795454545454, 1.8935227272727273, 12.30496212121212, 9.561060606060606, 26.76806818181818, 6.440681818181819, 6.831287878787878, 7.7284848484848485, 5.407386363636363, 6.2775, 3.719848484848485, 4.2295454545454545, 7.963295454545454, 12.150366161616162, 2.1955681818181816, 4.509469696969696, 4.303257575757575, 2.7396969696969693, 2.092992424242424, 3.9379924242424242, 6.138219696969697, 0.9287121212121212, 35.14268939393939, 7.508939393939394, 5.172196969696969, 3.2432575757575752, 9.994886363636361, 9.730568181818178, 3.0431818181818175, 18.128257575757573, 13.748674242424242, 42.75469696969697, 37.20193181818182, 3.261060606060605, 1.3611363636363636, 6.860454545454545, 12.44143939393939, 2.427121212121212, 3.7727651515151517, 4.809318181818182, 3.399621212121212, 2.4327651515151514, 4.235946969696969, 3.3147348484848487, 1.7707954545454543, 3.510871212121212, 12.97219696969697, 13.962348484848484, 2.67185606060606, 10.346931818181817, 5.44344696969697, 9.152007575757576, 10.836401515151515, 5.743181818181818, 17.95800505050505, 5.219469696969696, 6.26871212121212, 2.5701515151515153, 22.396666666666665, 16.773030303030303, 3.8032575757575753, 1.8922727272727273, 4.52, 12.383750000000001, 1.598219696969697, 2.8106060606060606, 29.59022727272727, 15.070719696969695, 10.10294191919192, 2.175530303030303, 4.184166666666667, 1.953560606060606, 3.400833333333333, 4.043295454545454, 6.085568181818181, 4.722348484848485, 20.967159090909092, 4.838560606060606, 4.101893939393938, 31.553030303030308, 2.837083333333333, 9.61253787878788, 7.369090909090909, 9.180757575757575, 3.6812121212121207, 2.2726893939393937, 12.723674242424241, 10.858522727272726, 15.68465909090909, 12.556325757575756, 12.813484848484848, 4.8276893939393934, 3.6452651515151513, 45.3360606060606, 11.342803030303031, 21.922689393939393, 5.3900378787878775, 17.827651515151516, 6.0615151515151515, 10.440984848484849, 7.374280303030304, 4.467045454545454, 5.684583333333332, 11.275227272727271, 2.34875, 3.7679924242424243, 31.436704545454543, 10.149280303030304, 2.5859848484848484, 20.579204545454544, 37.73090909090909, 16.487045454545456, 24.977272727272727, 5.869848484848484, 4.807954545454545, 16.162840909090907, 5.897196969696969, 4.133636363636364, 5.925189393939393, 5.2621590909090905, 4.630492424242424, 5.836969696969696, 46.30359848484848, 7.454431818181818, 5.80905303030303, 3.5959848484848482, 2.8528787878787876, 24.109280303030303, 33.53727272727273, 13.02026515151515, 9.391742424242423, 2.979772727272727, 10.090151515151511, 7.462537878787878, 5.639734848484848, 23.197045454545453, 5.760984848484848, 9.455378787878784, 9.351477272727273, 18.605, 6.616477272727273, 2.868522727272727, 3.550340909090909, 2.9040151515151513, 2.7737373737373736, 35.202083333333334, 3.7502651515151513, 4.140075757575758, 21.767272727272726, 5.892462121212121, 2.8979545454545454, 4.483560606060605, 7.5206060606060605, 6.879318181818181, 7.4979545454545455, 6.123787878787878, 17.312613636363636, 5.698674242424242, 2.731439393939394, 6.237159090909091, 8.044924242424242, 5.089356060606061, 7.383863636363636, 17.213825757575755, 3.0534469696969695, 2.549659090909091, 30.43795454545454, 4.235416666666666, 6.059772727272727, 21.481439393939393, 3.181780303030303, 3.8644696969696968, 2.8342803030303028, 4.8642045454545455, 7.219015151515151, 5.86965909090909, 1.9376136363636363, 19.746287878787875, 4.073901515151514, 13.50159090909091, 10.207007575757576, 6.905530303030303, 5.361477272727273, 4.519621212121212, 12.35837121212121, 36.04443181818181, 9.363295454545453, 3.7036363636363636, 6.683295454545455, 47.34003787878788, 24.658484848484846, 23.262462121212117, 3.8153409090909083, 4.631060606060606, 4.515833333333333, 8.444318181818183, 7.568712121212123, 13.235340909090906, 32.97602272727272, 3.328522727272727, 7.907613636363635, 3.4778409090909093, 4.016212121212121, 1.9883712121212116, 3.0707575757575762, 2.721325757575758, 25.323194444444443, 40.59098484848485, 7.804583333333333, 2.2993181818181823, 4.311931818181819, 4.336363636363636, 9.356931818181819, 6.3456439393939394, 10.521477272727271, 16.614280303030302, 4.2399621212121215, 7.308446969696972, 4.560227272727272, 9.776022727272727, 3.7072348484848483, 6.518825757575756, 4.965833333333334, 4.41625, 3.9682954545454545, 5.078030303030303, 3.150075757575758, 4.5216666666666665, 5.087310606060605, 2.3652651515151515, 5.105227272727273, 6.41969696969697, 4.532840909090909, 20.300795454545455, 11.138522727272727, 3.6793939393939383, 4.17030303030303, 11.279368686868686, 1.8684469696969694, 1.3639393939393938, 6.534659090909091, 3.6151515151515152, 52.202651515151516, 4.2911363636363635, 4.780189393939393, 10.615946969696967, 5.583446969696968, 9.199621212121212, 4.915113636363635, 3.0716666666666663, 3.438560606060605, 1.8598484848484849, 17.517386363636362, 2.907007575757575, 44.82761363636363, 5.223749999999999, 31.366818181818182, 4.971590909090909, 6.889015151515149, 7.363333333333332, 6.2177651515151515, 5.74465909090909, 7.01992424242424, 1.3348106060606062, 17.436363636363637, 8.741060606060604, 5.868143939393939, 5.1975, 5.157537878787879, 17.361136363636362, 21.63655303030303, 18.00935606060606, 44.51537878787879, 2.635795454545455, 67.7003409090909, 5.619128787878788, 6.424545454545455, 5.290113636363635, 1.7415909090909092, 3.202310606060606, 17.03246212121212, 6.434431818181818, 5.369962121212121, 3.8978409090909087, 5.4576515151515155, 3.9013636363636364, 7.277803030303031, 3.82655303030303, 21.190757575757573, 8.185606060606059, 12.46185606060606, 5.280871212121213, 5.5192424242424245, 5.442537878787878, 14.425568181818182, 11.746439393939394, 4.858560606060606, 6.058674242424242, 8.009772727272727, 5.109280303030303, 50.26537878787879, 14.129962121212122, 8.324772727272729, 33.58776515151514, 4.114318181818181, 5.368787878787878, 2.9659469696969696, 6.296022727272727, 2.904962121212121, 6.59151515151515, 6.379090909090908, 3.422007575757575, 2.8676136363636364, 4.18871212121212, 15.818143939393941, 3.2547348484848486, 5.0329924242424235, 4.264204545454546, 15.18867424242424, 5.724507575757576, 2.051439393939394, 2.106590909090909, 7.79810606060606, 3.890757575757576, 3.772803030303031, 45.42613636363636, 11.600719696969698, 13.184090909090907, 2.066590909090909, 7.815340909090909, 1.743371212121212, 11.87655303030303, 15.439545454545453, 21.77617424242424, 3.5411994949494945, 5.38405303030303, 4.323522727272726, 19.033598484848483, 3.8380681818181817, 7.574318181818182, 29.847765151515148, 3.525606060606061, 7.975606060606063, 2.2088257575757573, 7.143939393939394, 1.8646212121212118, 8.836893939393939, 1.6960984848484848, 4.747840909090908, 4.625871212121211, 2.2396590909090905, 10.712386363636362, 5.72344696969697, 29.879848484848488, 4.227689393939395, 21.36689393939394, 7.500113636363636, 5.649924242424241, 2.483446969696969, 26.140189393939394, 10.94155303030303, 5.697613636363636, 2.9779166666666663, 4.661742424242425, 3.213181818181818, 6.453901515151516, 33.38916666666667, 18.54882575757576, 19.684848484848484, 3.1809090909090907, 4.325075757575758, 14.262348484848484, 11.158484848484846, 6.5701136363636365, 5.492310606060606, 11.253825757575756, 2.936439393939394, 1.528371212121212, 6.951969696969697, 2.0998106060606063, 6.701363636363634, 3.4219318181818172, 13.64155303030303, 2.5757575757575752, 5.429924242424242, 8.151363636363635, 5.2998863636363645, 16.34056818181818, 19.14242424242424, 7.048295454545454, 2.9289772727272725, 7.420113636363636, 11.796515151515152, 1.9031439393939396, 5.470378787878789, 23.355795454545454, 3.9424242424242424, 4.1575378787878785, 5.060416666666666, 12.896060606060605, 7.343409090909092, 1.4696212121212122, 7.940189393939393, 6.8649621212121215, 8.23068181818182, 14.13776515151515, 6.372727272727272, 5.07155303030303, 8.234090909090908, 11.89151515151515, 2.243825757575758, 3.26375, 5.474318181818181, 9.21776515151515, 3.616931818181818, 10.412083333333333, 7.073560606060607, 5.72905303030303, 1.1421969696969696, 7.1143560606060605, 1.4425, 7.126931818181817, 3.3014015151515146, 6.959280303030303, 4.866628787878788, 5.1804924242424235, 4.287537878787878, 5.865946969696967, 4.482424242424242, 5.825946969696968, 3.6631060606060606, 25.501893939393938, 6.10314393939394, 1.7667424242424241, 32.22340909090909, 5.532083333333333, 26.04810606060606, 3.8700000000000006, 21.80604797979798, 3.910037878787878, 8.843181818181817, 8.613598484848485, 4.4449621212121215, 4.145643939393938, 5.7517424242424235, 4.017424242424243, 5.964886363636364, 3.565681818181818, 6.06556818181818, 15.315265151515153, 2.482234848484848, 1.6876893939393938, 12.149621212121211, 4.141628787878789, 5.182007575757575, 16.373257575757574, 42.69446969696969, 2.718219696969697, 12.489621212121211, 15.21310606060606, 2.08814393939394, 3.622462121212121, 2.904128787878788, 40.73496212121212, 14.668901515151514, 13.572916666666668, 10.413333333333332, 10.05405303030303, 7.929810606060605, 3.263320707070707, 5.365075757575758, 13.187462121212121, 10.935984848484848, 18.04405303030303, 18.956969696969693, 15.158257575757572, 4.42469696969697, 2.577310606060606, 7.931780303030302, 6.137196969696969, 5.8844318181818185, 2.411628787878788, 2.5520833333333344, 14.469166666666665, 3.0070454545454544, 4.6075, 4.3346212121212115, 6.818522727272727, 1.8068939393939392, 2.3445454545454543, 7.296666666666667, 9.026780303030304, 54.33719696969697, 10.009772727272727, 18.708560606060608, 4.4546590909090895, 2.810719696969697, 1.2448863636363638, 5.200227272727272, 3.9481818181818182, 1.6218560606060606, 6.128333333333334, 2.9436363636363634, 6.606628787878786, 2.0936363636363633, 62.04935606060603, 3.9905303030303028, 21.589090909090906, 4.81844696969697, 6.254848484848484, 1.8825000000000003, 7.455946969696969, 31.281439393939394, 7.123939393939394, 2.554810606060606, 2.734166666666667, 18.91003787878788, 5.72969696969697, 6.4522348484848475, 5.998749999999999, 8.044583333333332, 22.403598484848484, 2.1725, 2.2611363636363633, 4.549318181818182, 13.79492424242424, 3.2114772727272722, 6.3195075757575765, 25.62655303030303, 5.404545454545454, 58.14219696969697, 8.301136363636363, 5.3732575757575765, 7.6236489898989905, 6.387878787878789, 32.01674242424242, 3.5281818181818183, 4.22284090909091, 7.484431818181817, 13.374507575757576, 4.411628787878787, 43.80390151515151, 3.9397348484848482, 7.7810227272727275, 3.0966666666666667, 3.636477272727273, 3.2174242424242427, 26.419318181818184, 2.07375, 8.054886363636363, 3.5960606060606057, 10.090416666666666, 6.05185606060606, 3.5827651515151513, 3.468863636363636, 3.4868181818181823, 2.506060606060606, 15.931439393939396, 3.294659090909091, 14.294999999999998, 2.8082954545454544, 2.8136363636363635, 4.061174242424242, 6.204621212121211, 4.369507575757575, 1.6396212121212121, 16.799772727272725, 3.5969696969696967, 7.448939393939394, 19.51034090909091, 6.123863636363636, 4.376325757575758, 11.816590909090905, 4.264469696969696, 5.5343560606060604, 4.708636363636363, 18.692310606060605, 1.4876515151515148, 5.4090151515151526, 21.927537878787874, 4.637045454545454, 5.985416666666667, 5.135265151515151, 5.00685606060606, 5.760378787878787, 3.0950757575757573, 4.7607954545454545, 23.79416666666667, 6.083901515151515, 10.097310606060606, 6.5746590909090905, 2.6210227272727264, 1.1043181818181815, 7.253825757575758, 3.526704545454545, 8.118977272727275, 8.809734848484847, 4.136401515151515, 9.00719696969697, 3.109356060606061, 5.7737878787878785, 41.07749999999999, 6.221704545454546, 3.1429924242424234, 4.725719696969698, 6.796060606060607, 7.077992424242424, 61.357765151515146, 32.37454545454545, 14.751022727272726, 2.1640530303030303, 10.767727272727273, 3.569886363636363, 6.850151515151515, 1.8370454545454544, 23.940606060606058, 8.473068181818181, 2.5960606060606057, 3.7429924242424235, 4.073068181818182, 4.8856439393939395, 1.5184469696969698, 3.774583333333333, 1.8473484848484847, 2.451136363636364, 3.2170454545454543, 4.213257575757575, 4.1906060606060604, 1.2409469696969695, 25.78515151515151, 3.0326515151515148, 9.165378787878787, 2.0212878787878785, 17.830984848484846, 20.21647727272727, 2.6703787878787884, 18.16026515151515, 5.97685606060606, 2.567121212121212, 3.1132575757575753, 6.302348484848484, 23.572272727272725, 5.805075757575757, 4.454242424242424, 4.248901515151514, 18.20284090909091, 2.6427651515151513, 7.7835984848484845, 12.846477272727274, 30.05340909090909, 4.3454924242424235, 3.1819696969696967, 6.843143939393939, 2.034848484848485, 12.593522727272727, 24.010454545454543, 42.77022727272727, 3.347651515151515, 3.9776893939393942, 0.6936742424242425, 5.448636363636363, 10.160833333333333, 5.811780303030304, 4.63034090909091, 4.66405303030303, 6.999393939393939, 2.960151515151515, 14.393939393939393, 0.7925757575757575, 2.7798863636363635, 3.119924242424242, 7.833977272727273, 4.730340909090909, 5.934204545454545, 4.854507575757577, 4.48776515151515, 21.702386363636364, 4.3143939393939394, 22.50094696969697, 4.471780303030303, 6.564924242424242, 1.1118560606060608, 5.422196969696971, 5.336893939393939, 3.449507575757575, 5.259242424242423, 13.421742424242424, 1.463068181818182, 6.655643939393939, 32.91886363636363, 4.160946969696969, 7.6012499999999985, 3.4323106060606055, 5.674204545454545, 27.99462121212121, 19.808598484848485, 5.728712121212121, 3.698901515151515, 8.673181818181817, 3.0504924242424236, 19.804772727272727, 5.109280303030303, 6.2831439393939394, 14.081363636363637, 2.8938636363636365, 5.53219696969697, 7.875757575757575, 3.803409090909091, 3.1748863636363627, 3.4884090909090912, 3.3695075757575754, 7.110113636363637, 3.549507575757576, 2.553295454545455, 5.077499999999999, 7.43151515151515, 4.59090909090909, 6.092613636363636, 7.998030303030303, 7.622348484848485, 6.940719696969698, 37.380643939393934, 2.024621212121212, 11.395795454545453, 16.824494949494948, 8.322499999999998, 6.09151515151515, 4.406439393939394, 14.870606060606061, 3.5160606060606066, 3.3108712121212127, 5.4697348484848485, 8.852462121212124, 4.780795454545454, 5.5021969696969695, 10.99121212121212, 3.6175757575757572, 7.66219696969697, 4.87121212121212, 43.22034090909091, 4.117954545454545, 8.399128787878787, 2.605492424242424, 5.251856060606061, 1.014090909090909, 4.783674242424242, 6.306590909090907, 5.046780303030303, 2.533219696969697, 2.480530303030303, 6.877992424242423, 8.47564393939394, 8.238030303030303, 3.8593181818181823, 23.21685606060606, 1.5732954545454545, 4.35094696969697, 27.478749999999998, 1.3182575757575756, 8.031704545454545, 3.3677272727272727, 4.020075757575758, 7.762916666666666, 5.065871212121213, 19.136893939393936, 4.259507575757575, 8.864280303030302, 7.493219696969697, 2.221401515151515, 5.2653409090909085, 3.418674242424242, 19.510606060606058, 7.47401515151515, 7.630795454545455, 7.577727272727274, 14.342803030303028, 25.649583333333332, 6.347310606060605, 6.136212121212122, 5.965909090909091, 2.967613636363636, 1.5754166666666662, 2.016477272727273, 5.712272727272728, 5.233371212121211, 21.779204545454544, 24.131401515151516, 5.018484848484848, 9.857007575757574, 2.6660984848484848, 53.949772727272716, 3.019545454545454, 37.31791666666666, 31.64526515151515, 3.822765151515151, 3.3610227272727276, 2.898939393939394, 5.446363636363635, 12.589356060606057, 6.035454545454545, 19.939242424242426, 19.5157196969697, 5.6684090909090905, 3.1314393939393934, 2.323484848484848, 2.907007575757576, 4.848825757575758, 1.5493939393939393, 8.630113636363635, 8.191818181818181, 3.2154924242424245, 1.538030303030303, 3.905946969696969, 7.773257575757574, 8.312121212121212, 32.41477272727272, 12.890946969696968, 5.5597348484848474, 5.7331439393939405, 10.02905303030303, 19.083560606060608, 11.44651515151515, 11.213371212121212, 65.09537878787879, 6.2487121212121215, 3.855265151515151, 5.028712121212121, 6.317613636363637, 2.3394318181818186, 1.5402651515151513, 6.648522727272726, 2.5954166666666665, 4.015681818181818, 5.5168181818181825, 4.9531439393939385, 4.604166666666666, 5.071742424242425, 4.679242424242424, 3.978295454545454, 3.777462121212121, 8.35560606060606, 13.604090909090909, 12.261780303030303, 6.978068181818181, 3.6378030303030298, 3.1524621212121207, 2.8621969696969694, 9.40560606060606, 26.677234848484847, 2.4870454545454543, 2.0641287878787873, 3.8438636363636354, 9.539583333333333, 7.422045454545454, 2.568484848484849, 7.138674242424242, 4.035606060606061, 5.287007575757576, 24.244242424242422, 10.466022727272728, 4.79594696969697, 32.0805303030303, 39.811401515151516, 4.339053030303029, 5.007689393939394, 3.577121212121212, 21.080946969696974, 33.12435606060606, 6.812007575757576, 21.649204545454545, 40.204166666666666, 4.57280303030303, 1.8577651515151516, 5.386590909090909, 3.5612878787878794, 38.6232196969697, 35.46848484848485, 26.393977272727266, 11.631818181818183, 6.423181818181818, 7.225984848484847, 63.78787878787878, 5.0959469696969695, 7.710871212121212, 4.312234848484849, 4.1370075757575755, 4.890946969696968, 4.6132954545454545, 4.076212121212121, 4.024545454545454, 2.9230303030303038, 6.201060606060606, 8.390075757575756, 5.261477272727272, 5.738409090909091, 2.8172348484848477, 5.131212121212121, 4.043522727272727, 10.893522727272726, 2.864621212121212, 2.5814772727272723, 32.780530303030304, 29.330492424242426, 4.825227272727272, 4.482575757575757, 14.540113636363635, 8.107765151515153, 4.617424242424242, 14.903333333333332, 1.1275378787878787, 8.082007575757576, 21.94056818181818, 2.197462121212121, 2.3942803030303024, 4.131136363636363, 5.299924242424243, 3.8124621212121212, 4.115492424242424, 3.960606060606061, 36.34159090909091, 3.383560606060606, 3.7343939393939394, 2.9825757575757574, 5.897083333333335, 12.679772727272724, 3.6648484848484846, 5.19284090909091, 6.976780303030303, 5.697840909090909, 10.195833333333333, 2.3320454545454545, 16.214734848484845, 25.3617803030303, 6.257916666666667, 2.8651136363636365, 7.264431818181818, 6.417272727272728, 5.6475, 49.544962121212116, 2.568257575757576, 7.975037878787878, 10.512992424242421, 3.624393939393939, 6.439810606060606, 6.728257575757576, 3.9367045454545453, 2.5264772727272726, 5.816325757575758, 11.631818181818183, 5.281249999999999, 3.4581439393939393, 2.879848484848485, 1.6227651515151515, 6.402575757575757, 7.553977272727272, 2.0851893939393937, 18.29375, 1.3445075757575755, 8.72094696969697, 5.411969696969697, 5.181060606060606, 1.692121212121212, 4.3595454545454535, 30.934734848484847, 4.756325757575757, 8.817234848484848, 6.062878787878789, 8.443484848484848, 11.350681818181817, 10.98840909090909, 4.950757575757576, 9.100681818181815, 6.967234848484849, 4.740871212121212, 19.592840909090903, 32.2503409090909, 30.978143939393934, 6.07121212121212, 6.193143939393939, 40.641136363636356, 4.455833333333334, 1.400189393939394, 8.454469696969696, 1.5259848484848484, 4.15155303030303, 7.4085984848484845, 2.4193181818181815, 11.208674242424243, 3.4376893939393938, 0.7984747474747476, 20.007689393939394, 5.296136363636364, 5.26462121212121, 15.528939393939394, 6.250492424242425, 32.834621212121206, 5.455037878787879, 28.901325757575755, 10.002954545454546, 3.9694696969696968, 4.0411363636363635, 5.0559469696969686, 3.1409090909090907, 23.801666666666662, 5.776401515151514, 5.23125, 4.343257575757575, 8.29712121212121, 35.069621212121206, 10.736250000000002, 5.955871212121211, 3.475378787878788, 5.966780303030303, 4.826098484848485, 25.557651515151512, 34.69984848484849, 2.6469696969696974, 4.549924242424242, 5.886969696969697, 4.9330303030303035, 2.5031439393939396, 8.94772727272727, 5.89530303030303, 6.906363636363636, 11.154128787878786, 3.6149999999999993, 4.108598484848484, 3.9119696969696967, 4.685416666666666, 5.404621212121213, 5.425984848484848, 23.669507575757574, 4.444318181818183, 6.345909090909089, 20.00837121212121, 17.562007575757576, 3.282651515151515, 3.4801136363636367, 4.939734848484848, 3.1384090909090907, 3.6396212121212113, 9.771780303030301, 6.255606060606061, 4.786136363636364, 4.675189393939394, 4.561704545454546, 29.971325757575755, 3.6381060606060602, 1.4421590909090907, 5.836174242424243]\n"
     ]
    }
   ],
   "source": [
    "print(final_ans)"
   ]
  },
  {
   "cell_type": "code",
   "execution_count": 217,
   "metadata": {},
   "outputs": [
    {
     "name": "stdout",
     "output_type": "stream",
     "text": [
      "0.8554773151136632\n"
     ]
    }
   ],
   "source": [
    "#checking score of the ensemble model\n",
    "from sklearn.metrics import r2_score\n",
    "print(r2_score(final_ans,valid_y))"
   ]
  },
  {
   "cell_type": "markdown",
   "metadata": {},
   "source": [
    "# Prediction over Test data set"
   ]
  },
  {
   "cell_type": "code",
   "execution_count": 218,
   "metadata": {},
   "outputs": [],
   "source": [
    "#checking test data set ready/not"
   ]
  },
  {
   "cell_type": "code",
   "execution_count": 219,
   "metadata": {},
   "outputs": [
    {
     "data": {
      "text/plain": [
       "Name                 0\n",
       "Location             0\n",
       "Year                 0\n",
       "Kilometers_Driven    0\n",
       "Fuel_Type            0\n",
       "Transmission         0\n",
       "Owner_Type           0\n",
       "Mileage              0\n",
       "Engine               0\n",
       "Power                0\n",
       "Seats                0\n",
       "dtype: int64"
      ]
     },
     "execution_count": 219,
     "metadata": {},
     "output_type": "execute_result"
    }
   ],
   "source": [
    "data_frame_test.isnull().sum()"
   ]
  },
  {
   "cell_type": "code",
   "execution_count": 220,
   "metadata": {},
   "outputs": [
    {
     "data": {
      "text/html": [
       "<div>\n",
       "<style scoped>\n",
       "    .dataframe tbody tr th:only-of-type {\n",
       "        vertical-align: middle;\n",
       "    }\n",
       "\n",
       "    .dataframe tbody tr th {\n",
       "        vertical-align: top;\n",
       "    }\n",
       "\n",
       "    .dataframe thead th {\n",
       "        text-align: right;\n",
       "    }\n",
       "</style>\n",
       "<table border=\"1\" class=\"dataframe\">\n",
       "  <thead>\n",
       "    <tr style=\"text-align: right;\">\n",
       "      <th></th>\n",
       "      <th>Name</th>\n",
       "      <th>Location</th>\n",
       "      <th>Year</th>\n",
       "      <th>Kilometers_Driven</th>\n",
       "      <th>Fuel_Type</th>\n",
       "      <th>Transmission</th>\n",
       "      <th>Owner_Type</th>\n",
       "      <th>Mileage</th>\n",
       "      <th>Engine</th>\n",
       "      <th>Power</th>\n",
       "      <th>Seats</th>\n",
       "    </tr>\n",
       "  </thead>\n",
       "  <tbody>\n",
       "    <tr>\n",
       "      <th>0</th>\n",
       "      <td>Maruti</td>\n",
       "      <td>Delhi</td>\n",
       "      <td>2014</td>\n",
       "      <td>40929</td>\n",
       "      <td>CNG</td>\n",
       "      <td>Manual</td>\n",
       "      <td>First</td>\n",
       "      <td>32.26 km/kg</td>\n",
       "      <td>998.0</td>\n",
       "      <td>58.200000</td>\n",
       "      <td>4.0</td>\n",
       "    </tr>\n",
       "    <tr>\n",
       "      <th>1</th>\n",
       "      <td>Maruti</td>\n",
       "      <td>Coimbatore</td>\n",
       "      <td>2013</td>\n",
       "      <td>54493</td>\n",
       "      <td>Petrol</td>\n",
       "      <td>Manual</td>\n",
       "      <td>Second</td>\n",
       "      <td>24.7 kmpl</td>\n",
       "      <td>796.0</td>\n",
       "      <td>47.300000</td>\n",
       "      <td>5.0</td>\n",
       "    </tr>\n",
       "    <tr>\n",
       "      <th>2</th>\n",
       "      <td>Toyota</td>\n",
       "      <td>Mumbai</td>\n",
       "      <td>2017</td>\n",
       "      <td>34000</td>\n",
       "      <td>Diesel</td>\n",
       "      <td>Manual</td>\n",
       "      <td>First</td>\n",
       "      <td>13.68 kmpl</td>\n",
       "      <td>2393.0</td>\n",
       "      <td>147.800000</td>\n",
       "      <td>7.0</td>\n",
       "    </tr>\n",
       "    <tr>\n",
       "      <th>3</th>\n",
       "      <td>Toyota</td>\n",
       "      <td>Hyderabad</td>\n",
       "      <td>2012</td>\n",
       "      <td>139000</td>\n",
       "      <td>Diesel</td>\n",
       "      <td>Manual</td>\n",
       "      <td>First</td>\n",
       "      <td>23.59 kmpl</td>\n",
       "      <td>1364.0</td>\n",
       "      <td>108.396458</td>\n",
       "      <td>5.0</td>\n",
       "    </tr>\n",
       "    <tr>\n",
       "      <th>4</th>\n",
       "      <td>Hyundai</td>\n",
       "      <td>Mumbai</td>\n",
       "      <td>2014</td>\n",
       "      <td>29000</td>\n",
       "      <td>Petrol</td>\n",
       "      <td>Manual</td>\n",
       "      <td>First</td>\n",
       "      <td>18.5 kmpl</td>\n",
       "      <td>1197.0</td>\n",
       "      <td>82.850000</td>\n",
       "      <td>5.0</td>\n",
       "    </tr>\n",
       "    <tr>\n",
       "      <th>5</th>\n",
       "      <td>Mahindra</td>\n",
       "      <td>Coimbatore</td>\n",
       "      <td>2016</td>\n",
       "      <td>85609</td>\n",
       "      <td>Diesel</td>\n",
       "      <td>Manual</td>\n",
       "      <td>Second</td>\n",
       "      <td>16.0 kmpl</td>\n",
       "      <td>2179.0</td>\n",
       "      <td>140.000000</td>\n",
       "      <td>7.0</td>\n",
       "    </tr>\n",
       "    <tr>\n",
       "      <th>6</th>\n",
       "      <td>Toyota</td>\n",
       "      <td>Pune</td>\n",
       "      <td>2015</td>\n",
       "      <td>59000</td>\n",
       "      <td>Diesel</td>\n",
       "      <td>Automatic</td>\n",
       "      <td>First</td>\n",
       "      <td>12.55 kmpl</td>\n",
       "      <td>2982.0</td>\n",
       "      <td>168.700000</td>\n",
       "      <td>7.0</td>\n",
       "    </tr>\n",
       "    <tr>\n",
       "      <th>7</th>\n",
       "      <td>Hyundai</td>\n",
       "      <td>Jaipur</td>\n",
       "      <td>2013</td>\n",
       "      <td>65000</td>\n",
       "      <td>Petrol</td>\n",
       "      <td>Manual</td>\n",
       "      <td>First</td>\n",
       "      <td>21.1 kmpl</td>\n",
       "      <td>814.0</td>\n",
       "      <td>55.200000</td>\n",
       "      <td>5.0</td>\n",
       "    </tr>\n",
       "    <tr>\n",
       "      <th>8</th>\n",
       "      <td>Honda</td>\n",
       "      <td>Mumbai</td>\n",
       "      <td>2011</td>\n",
       "      <td>66000</td>\n",
       "      <td>Petrol</td>\n",
       "      <td>Manual</td>\n",
       "      <td>Second</td>\n",
       "      <td>17.0 kmpl</td>\n",
       "      <td>1497.0</td>\n",
       "      <td>118.000000</td>\n",
       "      <td>5.0</td>\n",
       "    </tr>\n",
       "    <tr>\n",
       "      <th>9</th>\n",
       "      <td>Mahindra</td>\n",
       "      <td>Coimbatore</td>\n",
       "      <td>2015</td>\n",
       "      <td>54684</td>\n",
       "      <td>Diesel</td>\n",
       "      <td>Manual</td>\n",
       "      <td>First</td>\n",
       "      <td>15.1 kmpl</td>\n",
       "      <td>2179.0</td>\n",
       "      <td>140.000000</td>\n",
       "      <td>7.0</td>\n",
       "    </tr>\n",
       "  </tbody>\n",
       "</table>\n",
       "</div>"
      ],
      "text/plain": [
       "       Name    Location  Year  Kilometers_Driven Fuel_Type Transmission  \\\n",
       "0    Maruti       Delhi  2014              40929       CNG       Manual   \n",
       "1    Maruti  Coimbatore  2013              54493    Petrol       Manual   \n",
       "2    Toyota      Mumbai  2017              34000    Diesel       Manual   \n",
       "3    Toyota   Hyderabad  2012             139000    Diesel       Manual   \n",
       "4   Hyundai      Mumbai  2014              29000    Petrol       Manual   \n",
       "5  Mahindra  Coimbatore  2016              85609    Diesel       Manual   \n",
       "6    Toyota        Pune  2015              59000    Diesel    Automatic   \n",
       "7   Hyundai      Jaipur  2013              65000    Petrol       Manual   \n",
       "8     Honda      Mumbai  2011              66000    Petrol       Manual   \n",
       "9  Mahindra  Coimbatore  2015              54684    Diesel       Manual   \n",
       "\n",
       "  Owner_Type      Mileage  Engine       Power  Seats  \n",
       "0      First  32.26 km/kg   998.0   58.200000    4.0  \n",
       "1     Second    24.7 kmpl   796.0   47.300000    5.0  \n",
       "2      First   13.68 kmpl  2393.0  147.800000    7.0  \n",
       "3      First   23.59 kmpl  1364.0  108.396458    5.0  \n",
       "4      First    18.5 kmpl  1197.0   82.850000    5.0  \n",
       "5     Second    16.0 kmpl  2179.0  140.000000    7.0  \n",
       "6      First   12.55 kmpl  2982.0  168.700000    7.0  \n",
       "7      First    21.1 kmpl   814.0   55.200000    5.0  \n",
       "8     Second    17.0 kmpl  1497.0  118.000000    5.0  \n",
       "9      First    15.1 kmpl  2179.0  140.000000    7.0  "
      ]
     },
     "execution_count": 220,
     "metadata": {},
     "output_type": "execute_result"
    }
   ],
   "source": [
    "data_frame_test.head(10)"
   ]
  },
  {
   "cell_type": "code",
   "execution_count": 222,
   "metadata": {},
   "outputs": [],
   "source": [
    "val=list(data_frame_test[\"Mileage\"])\n",
    "val2=[]\n",
    "for item in val:\n",
    "    item=str(item)\n",
    "    val2.append(item.split()[0])\n",
    "val2=list(map(float,val2))\n",
    "data_frame_test[\"Mileage\"]=val2"
   ]
  },
  {
   "cell_type": "code",
   "execution_count": 223,
   "metadata": {},
   "outputs": [
    {
     "data": {
      "text/html": [
       "<div>\n",
       "<style scoped>\n",
       "    .dataframe tbody tr th:only-of-type {\n",
       "        vertical-align: middle;\n",
       "    }\n",
       "\n",
       "    .dataframe tbody tr th {\n",
       "        vertical-align: top;\n",
       "    }\n",
       "\n",
       "    .dataframe thead th {\n",
       "        text-align: right;\n",
       "    }\n",
       "</style>\n",
       "<table border=\"1\" class=\"dataframe\">\n",
       "  <thead>\n",
       "    <tr style=\"text-align: right;\">\n",
       "      <th></th>\n",
       "      <th>Name</th>\n",
       "      <th>Location</th>\n",
       "      <th>Year</th>\n",
       "      <th>Kilometers_Driven</th>\n",
       "      <th>Fuel_Type</th>\n",
       "      <th>Transmission</th>\n",
       "      <th>Owner_Type</th>\n",
       "      <th>Mileage</th>\n",
       "      <th>Engine</th>\n",
       "      <th>Power</th>\n",
       "      <th>Seats</th>\n",
       "    </tr>\n",
       "  </thead>\n",
       "  <tbody>\n",
       "    <tr>\n",
       "      <th>0</th>\n",
       "      <td>Maruti</td>\n",
       "      <td>Delhi</td>\n",
       "      <td>2014</td>\n",
       "      <td>40929</td>\n",
       "      <td>CNG</td>\n",
       "      <td>Manual</td>\n",
       "      <td>First</td>\n",
       "      <td>32.26</td>\n",
       "      <td>998.0</td>\n",
       "      <td>58.200000</td>\n",
       "      <td>4.0</td>\n",
       "    </tr>\n",
       "    <tr>\n",
       "      <th>1</th>\n",
       "      <td>Maruti</td>\n",
       "      <td>Coimbatore</td>\n",
       "      <td>2013</td>\n",
       "      <td>54493</td>\n",
       "      <td>Petrol</td>\n",
       "      <td>Manual</td>\n",
       "      <td>Second</td>\n",
       "      <td>24.70</td>\n",
       "      <td>796.0</td>\n",
       "      <td>47.300000</td>\n",
       "      <td>5.0</td>\n",
       "    </tr>\n",
       "    <tr>\n",
       "      <th>2</th>\n",
       "      <td>Toyota</td>\n",
       "      <td>Mumbai</td>\n",
       "      <td>2017</td>\n",
       "      <td>34000</td>\n",
       "      <td>Diesel</td>\n",
       "      <td>Manual</td>\n",
       "      <td>First</td>\n",
       "      <td>13.68</td>\n",
       "      <td>2393.0</td>\n",
       "      <td>147.800000</td>\n",
       "      <td>7.0</td>\n",
       "    </tr>\n",
       "    <tr>\n",
       "      <th>3</th>\n",
       "      <td>Toyota</td>\n",
       "      <td>Hyderabad</td>\n",
       "      <td>2012</td>\n",
       "      <td>139000</td>\n",
       "      <td>Diesel</td>\n",
       "      <td>Manual</td>\n",
       "      <td>First</td>\n",
       "      <td>23.59</td>\n",
       "      <td>1364.0</td>\n",
       "      <td>108.396458</td>\n",
       "      <td>5.0</td>\n",
       "    </tr>\n",
       "    <tr>\n",
       "      <th>4</th>\n",
       "      <td>Hyundai</td>\n",
       "      <td>Mumbai</td>\n",
       "      <td>2014</td>\n",
       "      <td>29000</td>\n",
       "      <td>Petrol</td>\n",
       "      <td>Manual</td>\n",
       "      <td>First</td>\n",
       "      <td>18.50</td>\n",
       "      <td>1197.0</td>\n",
       "      <td>82.850000</td>\n",
       "      <td>5.0</td>\n",
       "    </tr>\n",
       "    <tr>\n",
       "      <th>5</th>\n",
       "      <td>Mahindra</td>\n",
       "      <td>Coimbatore</td>\n",
       "      <td>2016</td>\n",
       "      <td>85609</td>\n",
       "      <td>Diesel</td>\n",
       "      <td>Manual</td>\n",
       "      <td>Second</td>\n",
       "      <td>16.00</td>\n",
       "      <td>2179.0</td>\n",
       "      <td>140.000000</td>\n",
       "      <td>7.0</td>\n",
       "    </tr>\n",
       "    <tr>\n",
       "      <th>6</th>\n",
       "      <td>Toyota</td>\n",
       "      <td>Pune</td>\n",
       "      <td>2015</td>\n",
       "      <td>59000</td>\n",
       "      <td>Diesel</td>\n",
       "      <td>Automatic</td>\n",
       "      <td>First</td>\n",
       "      <td>12.55</td>\n",
       "      <td>2982.0</td>\n",
       "      <td>168.700000</td>\n",
       "      <td>7.0</td>\n",
       "    </tr>\n",
       "    <tr>\n",
       "      <th>7</th>\n",
       "      <td>Hyundai</td>\n",
       "      <td>Jaipur</td>\n",
       "      <td>2013</td>\n",
       "      <td>65000</td>\n",
       "      <td>Petrol</td>\n",
       "      <td>Manual</td>\n",
       "      <td>First</td>\n",
       "      <td>21.10</td>\n",
       "      <td>814.0</td>\n",
       "      <td>55.200000</td>\n",
       "      <td>5.0</td>\n",
       "    </tr>\n",
       "    <tr>\n",
       "      <th>8</th>\n",
       "      <td>Honda</td>\n",
       "      <td>Mumbai</td>\n",
       "      <td>2011</td>\n",
       "      <td>66000</td>\n",
       "      <td>Petrol</td>\n",
       "      <td>Manual</td>\n",
       "      <td>Second</td>\n",
       "      <td>17.00</td>\n",
       "      <td>1497.0</td>\n",
       "      <td>118.000000</td>\n",
       "      <td>5.0</td>\n",
       "    </tr>\n",
       "    <tr>\n",
       "      <th>9</th>\n",
       "      <td>Mahindra</td>\n",
       "      <td>Coimbatore</td>\n",
       "      <td>2015</td>\n",
       "      <td>54684</td>\n",
       "      <td>Diesel</td>\n",
       "      <td>Manual</td>\n",
       "      <td>First</td>\n",
       "      <td>15.10</td>\n",
       "      <td>2179.0</td>\n",
       "      <td>140.000000</td>\n",
       "      <td>7.0</td>\n",
       "    </tr>\n",
       "  </tbody>\n",
       "</table>\n",
       "</div>"
      ],
      "text/plain": [
       "       Name    Location  Year  Kilometers_Driven Fuel_Type Transmission  \\\n",
       "0    Maruti       Delhi  2014              40929       CNG       Manual   \n",
       "1    Maruti  Coimbatore  2013              54493    Petrol       Manual   \n",
       "2    Toyota      Mumbai  2017              34000    Diesel       Manual   \n",
       "3    Toyota   Hyderabad  2012             139000    Diesel       Manual   \n",
       "4   Hyundai      Mumbai  2014              29000    Petrol       Manual   \n",
       "5  Mahindra  Coimbatore  2016              85609    Diesel       Manual   \n",
       "6    Toyota        Pune  2015              59000    Diesel    Automatic   \n",
       "7   Hyundai      Jaipur  2013              65000    Petrol       Manual   \n",
       "8     Honda      Mumbai  2011              66000    Petrol       Manual   \n",
       "9  Mahindra  Coimbatore  2015              54684    Diesel       Manual   \n",
       "\n",
       "  Owner_Type  Mileage  Engine       Power  Seats  \n",
       "0      First    32.26   998.0   58.200000    4.0  \n",
       "1     Second    24.70   796.0   47.300000    5.0  \n",
       "2      First    13.68  2393.0  147.800000    7.0  \n",
       "3      First    23.59  1364.0  108.396458    5.0  \n",
       "4      First    18.50  1197.0   82.850000    5.0  \n",
       "5     Second    16.00  2179.0  140.000000    7.0  \n",
       "6      First    12.55  2982.0  168.700000    7.0  \n",
       "7      First    21.10   814.0   55.200000    5.0  \n",
       "8     Second    17.00  1497.0  118.000000    5.0  \n",
       "9      First    15.10  2179.0  140.000000    7.0  "
      ]
     },
     "execution_count": 223,
     "metadata": {},
     "output_type": "execute_result"
    }
   ],
   "source": [
    "data_frame_test.head(10)"
   ]
  },
  {
   "cell_type": "code",
   "execution_count": 224,
   "metadata": {},
   "outputs": [
    {
     "data": {
      "text/plain": [
       "Name                  object\n",
       "Location              object\n",
       "Year                   int64\n",
       "Kilometers_Driven      int64\n",
       "Fuel_Type             object\n",
       "Transmission          object\n",
       "Owner_Type            object\n",
       "Mileage              float64\n",
       "Engine               float64\n",
       "Power                float64\n",
       "Seats                float64\n",
       "dtype: object"
      ]
     },
     "execution_count": 224,
     "metadata": {},
     "output_type": "execute_result"
    }
   ],
   "source": [
    "data_frame_test.dtypes"
   ]
  },
  {
   "cell_type": "code",
   "execution_count": 227,
   "metadata": {},
   "outputs": [
    {
     "data": {
      "text/plain": [
       "(1234, 56)"
      ]
     },
     "execution_count": 227,
     "metadata": {},
     "output_type": "execute_result"
    }
   ],
   "source": [
    "import copy\n",
    "dft=copy.deepcopy(data_frame_test)\n",
    "dft=pd.get_dummies(dft)"
   ]
  },
  {
   "cell_type": "code",
   "execution_count": 228,
   "metadata": {},
   "outputs": [
    {
     "data": {
      "text/html": [
       "<div>\n",
       "<style scoped>\n",
       "    .dataframe tbody tr th:only-of-type {\n",
       "        vertical-align: middle;\n",
       "    }\n",
       "\n",
       "    .dataframe tbody tr th {\n",
       "        vertical-align: top;\n",
       "    }\n",
       "\n",
       "    .dataframe thead th {\n",
       "        text-align: right;\n",
       "    }\n",
       "</style>\n",
       "<table border=\"1\" class=\"dataframe\">\n",
       "  <thead>\n",
       "    <tr style=\"text-align: right;\">\n",
       "      <th></th>\n",
       "      <th>Year</th>\n",
       "      <th>Kilometers_Driven</th>\n",
       "      <th>Mileage</th>\n",
       "      <th>Engine</th>\n",
       "      <th>Power</th>\n",
       "      <th>Seats</th>\n",
       "      <th>Name_Audi</th>\n",
       "      <th>Name_BMW</th>\n",
       "      <th>Name_Bentley</th>\n",
       "      <th>Name_Chevrolet</th>\n",
       "      <th>...</th>\n",
       "      <th>Fuel_Type_CNG</th>\n",
       "      <th>Fuel_Type_Diesel</th>\n",
       "      <th>Fuel_Type_LPG</th>\n",
       "      <th>Fuel_Type_Petrol</th>\n",
       "      <th>Transmission_Automatic</th>\n",
       "      <th>Transmission_Manual</th>\n",
       "      <th>Owner_Type_First</th>\n",
       "      <th>Owner_Type_Fourth &amp; Above</th>\n",
       "      <th>Owner_Type_Second</th>\n",
       "      <th>Owner_Type_Third</th>\n",
       "    </tr>\n",
       "  </thead>\n",
       "  <tbody>\n",
       "    <tr>\n",
       "      <th>0</th>\n",
       "      <td>2014</td>\n",
       "      <td>40929</td>\n",
       "      <td>32.26</td>\n",
       "      <td>998.0</td>\n",
       "      <td>58.200000</td>\n",
       "      <td>4.0</td>\n",
       "      <td>0</td>\n",
       "      <td>0</td>\n",
       "      <td>0</td>\n",
       "      <td>0</td>\n",
       "      <td>...</td>\n",
       "      <td>1</td>\n",
       "      <td>0</td>\n",
       "      <td>0</td>\n",
       "      <td>0</td>\n",
       "      <td>0</td>\n",
       "      <td>1</td>\n",
       "      <td>1</td>\n",
       "      <td>0</td>\n",
       "      <td>0</td>\n",
       "      <td>0</td>\n",
       "    </tr>\n",
       "    <tr>\n",
       "      <th>1</th>\n",
       "      <td>2013</td>\n",
       "      <td>54493</td>\n",
       "      <td>24.70</td>\n",
       "      <td>796.0</td>\n",
       "      <td>47.300000</td>\n",
       "      <td>5.0</td>\n",
       "      <td>0</td>\n",
       "      <td>0</td>\n",
       "      <td>0</td>\n",
       "      <td>0</td>\n",
       "      <td>...</td>\n",
       "      <td>0</td>\n",
       "      <td>0</td>\n",
       "      <td>0</td>\n",
       "      <td>1</td>\n",
       "      <td>0</td>\n",
       "      <td>1</td>\n",
       "      <td>0</td>\n",
       "      <td>0</td>\n",
       "      <td>1</td>\n",
       "      <td>0</td>\n",
       "    </tr>\n",
       "    <tr>\n",
       "      <th>2</th>\n",
       "      <td>2017</td>\n",
       "      <td>34000</td>\n",
       "      <td>13.68</td>\n",
       "      <td>2393.0</td>\n",
       "      <td>147.800000</td>\n",
       "      <td>7.0</td>\n",
       "      <td>0</td>\n",
       "      <td>0</td>\n",
       "      <td>0</td>\n",
       "      <td>0</td>\n",
       "      <td>...</td>\n",
       "      <td>0</td>\n",
       "      <td>1</td>\n",
       "      <td>0</td>\n",
       "      <td>0</td>\n",
       "      <td>0</td>\n",
       "      <td>1</td>\n",
       "      <td>1</td>\n",
       "      <td>0</td>\n",
       "      <td>0</td>\n",
       "      <td>0</td>\n",
       "    </tr>\n",
       "    <tr>\n",
       "      <th>3</th>\n",
       "      <td>2012</td>\n",
       "      <td>139000</td>\n",
       "      <td>23.59</td>\n",
       "      <td>1364.0</td>\n",
       "      <td>108.396458</td>\n",
       "      <td>5.0</td>\n",
       "      <td>0</td>\n",
       "      <td>0</td>\n",
       "      <td>0</td>\n",
       "      <td>0</td>\n",
       "      <td>...</td>\n",
       "      <td>0</td>\n",
       "      <td>1</td>\n",
       "      <td>0</td>\n",
       "      <td>0</td>\n",
       "      <td>0</td>\n",
       "      <td>1</td>\n",
       "      <td>1</td>\n",
       "      <td>0</td>\n",
       "      <td>0</td>\n",
       "      <td>0</td>\n",
       "    </tr>\n",
       "    <tr>\n",
       "      <th>4</th>\n",
       "      <td>2014</td>\n",
       "      <td>29000</td>\n",
       "      <td>18.50</td>\n",
       "      <td>1197.0</td>\n",
       "      <td>82.850000</td>\n",
       "      <td>5.0</td>\n",
       "      <td>0</td>\n",
       "      <td>0</td>\n",
       "      <td>0</td>\n",
       "      <td>0</td>\n",
       "      <td>...</td>\n",
       "      <td>0</td>\n",
       "      <td>0</td>\n",
       "      <td>0</td>\n",
       "      <td>1</td>\n",
       "      <td>0</td>\n",
       "      <td>1</td>\n",
       "      <td>1</td>\n",
       "      <td>0</td>\n",
       "      <td>0</td>\n",
       "      <td>0</td>\n",
       "    </tr>\n",
       "  </tbody>\n",
       "</table>\n",
       "<p>5 rows × 56 columns</p>\n",
       "</div>"
      ],
      "text/plain": [
       "   Year  Kilometers_Driven  Mileage  Engine       Power  Seats  Name_Audi  \\\n",
       "0  2014              40929    32.26   998.0   58.200000    4.0          0   \n",
       "1  2013              54493    24.70   796.0   47.300000    5.0          0   \n",
       "2  2017              34000    13.68  2393.0  147.800000    7.0          0   \n",
       "3  2012             139000    23.59  1364.0  108.396458    5.0          0   \n",
       "4  2014              29000    18.50  1197.0   82.850000    5.0          0   \n",
       "\n",
       "   Name_BMW  Name_Bentley  Name_Chevrolet  ...  Fuel_Type_CNG  \\\n",
       "0         0             0               0  ...              1   \n",
       "1         0             0               0  ...              0   \n",
       "2         0             0               0  ...              0   \n",
       "3         0             0               0  ...              0   \n",
       "4         0             0               0  ...              0   \n",
       "\n",
       "   Fuel_Type_Diesel  Fuel_Type_LPG  Fuel_Type_Petrol  Transmission_Automatic  \\\n",
       "0                 0              0                 0                       0   \n",
       "1                 0              0                 1                       0   \n",
       "2                 1              0                 0                       0   \n",
       "3                 1              0                 0                       0   \n",
       "4                 0              0                 1                       0   \n",
       "\n",
       "   Transmission_Manual  Owner_Type_First  Owner_Type_Fourth & Above  \\\n",
       "0                    1                 1                          0   \n",
       "1                    1                 0                          0   \n",
       "2                    1                 1                          0   \n",
       "3                    1                 1                          0   \n",
       "4                    1                 1                          0   \n",
       "\n",
       "   Owner_Type_Second  Owner_Type_Third  \n",
       "0                  0                 0  \n",
       "1                  1                 0  \n",
       "2                  0                 0  \n",
       "3                  0                 0  \n",
       "4                  0                 0  \n",
       "\n",
       "[5 rows x 56 columns]"
      ]
     },
     "execution_count": 228,
     "metadata": {},
     "output_type": "execute_result"
    }
   ],
   "source": [
    "dft.head()"
   ]
  },
  {
   "cell_type": "code",
   "execution_count": 229,
   "metadata": {},
   "outputs": [
    {
     "data": {
      "text/plain": [
       "Index(['Year', 'Kilometers_Driven', 'Mileage', 'Engine', 'Power', 'Seats',\n",
       "       'Name_Ambassador', 'Name_Audi', 'Name_BMW', 'Name_Bentley',\n",
       "       'Name_Chevrolet', 'Name_Datsun', 'Name_Fiat', 'Name_Force', 'Name_Ford',\n",
       "       'Name_Honda', 'Name_Hyundai', 'Name_ISUZU', 'Name_Isuzu', 'Name_Jaguar',\n",
       "       'Name_Jeep', 'Name_Lamborghini', 'Name_Land', 'Name_Mahindra',\n",
       "       'Name_Maruti', 'Name_Mercedes-Benz', 'Name_Mini', 'Name_Mitsubishi',\n",
       "       'Name_Nissan', 'Name_Porsche', 'Name_Renault', 'Name_Skoda',\n",
       "       'Name_Smart', 'Name_Tata', 'Name_Toyota', 'Name_Volkswagen',\n",
       "       'Name_Volvo', 'Location_Ahmedabad', 'Location_Bangalore',\n",
       "       'Location_Chennai', 'Location_Coimbatore', 'Location_Delhi',\n",
       "       'Location_Hyderabad', 'Location_Jaipur', 'Location_Kochi',\n",
       "       'Location_Kolkata', 'Location_Mumbai', 'Location_Pune', 'Fuel_Type_CNG',\n",
       "       'Fuel_Type_Diesel', 'Fuel_Type_Electric', 'Fuel_Type_LPG',\n",
       "       'Fuel_Type_Petrol', 'Transmission_Automatic', 'Transmission_Manual',\n",
       "       'Owner_Type_First', 'Owner_Type_Fourth & Above', 'Owner_Type_Second',\n",
       "       'Owner_Type_Third'],\n",
       "      dtype='object')"
      ]
     },
     "execution_count": 229,
     "metadata": {},
     "output_type": "execute_result"
    }
   ],
   "source": [
    "indep_var.columns"
   ]
  },
  {
   "cell_type": "code",
   "execution_count": 230,
   "metadata": {},
   "outputs": [
    {
     "data": {
      "text/plain": [
       "Index(['Year', 'Kilometers_Driven', 'Mileage', 'Engine', 'Power', 'Seats',\n",
       "       'Name_Audi', 'Name_BMW', 'Name_Bentley', 'Name_Chevrolet',\n",
       "       'Name_Datsun', 'Name_Fiat', 'Name_Ford', 'Name_Hindustan', 'Name_Honda',\n",
       "       'Name_Hyundai', 'Name_ISUZU', 'Name_Isuzu', 'Name_Jaguar', 'Name_Jeep',\n",
       "       'Name_Land', 'Name_Mahindra', 'Name_Maruti', 'Name_Mercedes-Benz',\n",
       "       'Name_Mini', 'Name_Mitsubishi', 'Name_Nissan', 'Name_OpelCorsa',\n",
       "       'Name_Porsche', 'Name_Renault', 'Name_Skoda', 'Name_Tata',\n",
       "       'Name_Toyota', 'Name_Volkswagen', 'Name_Volvo', 'Location_Ahmedabad',\n",
       "       'Location_Bangalore', 'Location_Chennai', 'Location_Coimbatore',\n",
       "       'Location_Delhi', 'Location_Hyderabad', 'Location_Jaipur',\n",
       "       'Location_Kochi', 'Location_Kolkata', 'Location_Mumbai',\n",
       "       'Location_Pune', 'Fuel_Type_CNG', 'Fuel_Type_Diesel', 'Fuel_Type_LPG',\n",
       "       'Fuel_Type_Petrol', 'Transmission_Automatic', 'Transmission_Manual',\n",
       "       'Owner_Type_First', 'Owner_Type_Fourth & Above', 'Owner_Type_Second',\n",
       "       'Owner_Type_Third'],\n",
       "      dtype='object')"
      ]
     },
     "execution_count": 230,
     "metadata": {},
     "output_type": "execute_result"
    }
   ],
   "source": [
    "dft.columns"
   ]
  },
  {
   "cell_type": "code",
   "execution_count": 231,
   "metadata": {},
   "outputs": [],
   "source": [
    "dft[\"Name_Ambassador\"]=0\n",
    "dft[\"Name_Force\"]=0\n",
    "dft[\"Name_Smart\"]=0"
   ]
  },
  {
   "cell_type": "code",
   "execution_count": 233,
   "metadata": {},
   "outputs": [
    {
     "data": {
      "text/plain": [
       "(1234, 59)"
      ]
     },
     "execution_count": 233,
     "metadata": {},
     "output_type": "execute_result"
    }
   ],
   "source": [
    "dft.shape"
   ]
  },
  {
   "cell_type": "code",
   "execution_count": 234,
   "metadata": {},
   "outputs": [],
   "source": [
    "rf_final_val=rf_model.predict(dft)"
   ]
  },
  {
   "cell_type": "code",
   "execution_count": 236,
   "metadata": {},
   "outputs": [],
   "source": [
    "rf_final_val=list(rf_final_val)"
   ]
  },
  {
   "cell_type": "code",
   "execution_count": 237,
   "metadata": {},
   "outputs": [],
   "source": [
    "#for knn values must be normalized\n",
    "scaler=MinMaxScaler()"
   ]
  },
  {
   "cell_type": "code",
   "execution_count": 238,
   "metadata": {},
   "outputs": [
    {
     "name": "stderr",
     "output_type": "stream",
     "text": [
      "C:\\Users\\AVM\\Anaconda3\\lib\\site-packages\\sklearn\\preprocessing\\data.py:334: DataConversionWarning: Data with input dtype uint8, int64, float64 were all converted to float64 by MinMaxScaler.\n",
      "  return self.partial_fit(X, y)\n"
     ]
    }
   ],
   "source": [
    "dft1=scaler.fit_transform(dft)\n",
    "dft=pd.DataFrame(dft1,columns=dft.columns)"
   ]
  },
  {
   "cell_type": "code",
   "execution_count": 239,
   "metadata": {},
   "outputs": [],
   "source": [
    "knn_final_val=knn_reg.predict(dft)"
   ]
  },
  {
   "cell_type": "code",
   "execution_count": 241,
   "metadata": {},
   "outputs": [],
   "source": [
    "knn_final_val=list(knn_final_val)"
   ]
  },
  {
   "cell_type": "code",
   "execution_count": 244,
   "metadata": {},
   "outputs": [],
   "source": [
    "#ensembling to get final answer\n",
    "final_pred_on_test=[]\n",
    "for i in range(0,len(knn_final_val)):\n",
    "    final_pred_on_test.append(rf_final_val[i]*rf_mul_factor+knn_final_val[i]*knn_mul_factor)"
   ]
  },
  {
   "cell_type": "code",
   "execution_count": 245,
   "metadata": {},
   "outputs": [
    {
     "name": "stdout",
     "output_type": "stream",
     "text": [
      "[46.409242424242414, 49.22878787878787, 47.04928030303029, 42.76200757575756, 43.837386363636355, 42.79132575757574, 45.252689393939384, 43.37204545454544, 40.5635606060606, 46.35015151515151, 40.34295454545453, 43.74662878787878, 43.73742424242423, 51.766590909090915, 47.85530303030302, 51.08518939393938, 50.31261363636363, 43.58939393939393, 76.19053030303029, 63.770037878787875, 50.99594696969697, 43.22098484848484, 76.13844696969696, 40.359507575757554, 39.567424242424224, 39.03132575757574, 48.08333333333333, 42.67893939393939, 41.26321969696968, 40.41939393939393, 41.56155303030302, 41.700606060606056, 39.72257575757574, 45.93318181818181, 52.3519696969697, 53.989659090909086, 44.40571969696968, 44.57749999999999, 42.18393939393939, 47.6076515151515, 52.71780303030303, 42.44227272727272, 40.60746212121211, 44.21371212121211, 62.91950757575756, 61.78704545454544, 50.89113636363636, 44.77564393939392, 49.65886363636363, 43.644015151515134, 76.19053030303029, 43.21344696969696, 44.983446969696956, 45.093446969696956, 43.996969696969686, 44.8423106060606, 53.557916666666664, 41.923939393939385, 41.70738636363635, 43.331401515151505, 39.18117424242422, 49.58571969696969, 43.94416666666666, 43.58454545454544, 60.78954545454544, 48.227386363636356, 40.730303030303006, 43.27928030303029, 48.63431818181817, 41.33401515151514, 52.95882575757576, 42.07507575757574, 44.44390151515151, 45.67446969696969, 41.2696212121212, 41.82674242424241, 40.63079545454544, 43.966628787878776, 44.085833333333326, 52.59799242424242, 48.97291666666665, 46.417916666666656, 43.84386363636362, 48.285113636363626, 43.036893939393934, 50.66863636363635, 41.50109848484847, 48.37488636363636, 42.728522727272725, 45.84992424242424, 43.390303030303016, 44.803219696969684, 43.85598484848484, 53.2175, 43.58958333333332, 76.21303030303028, 47.85530303030302, 44.47617424242423, 50.58113636363637, 43.42439393939393, 44.72178030303029, 45.15575757575756, 43.284356060606044, 42.67893939393939, 42.7760606060606, 43.41969696969696, 44.17268939393939, 43.65060606060606, 44.134090909090894, 44.02916666666666, 41.74518939393938, 48.044469696969685, 46.72704545454545, 44.70534090909091, 41.16151515151513, 45.84992424242424, 44.740719696969684, 54.14655303030302, 52.66628787878788, 43.568143939393934, 61.08246212121211, 53.63375, 42.71727272727272, 51.99143939393937, 43.409810606060596, 46.84556818181818, 46.68189393939393, 50.31261363636363, 45.84992424242424, 43.93742424242423, 44.38015151515151, 43.26405303030302, 52.421742424242424, 51.393333333333324, 40.110340909090894, 52.31132575757576, 45.09393939393939, 43.29867424242423, 43.80825757575756, 43.789886363636356, 53.611666666666665, 43.12909090909089, 39.05272727272726, 42.651022727272725, 39.91965909090908, 41.69454545454544, 43.886060606060596, 52.33522727272727, 43.58071969696969, 44.211401515151515, 42.98772727272726, 39.37863636363635, 47.92553030303029, 50.47928030303029, 53.1285606060606, 43.34950757575756, 43.68791666666666, 46.670643939393926, 42.34946969696968, 44.12689393939392, 57.84344696969696, 53.611666666666665, 44.23844696969696, 49.70030303030302, 48.69655303030302, 51.56469696969696, 43.638749999999995, 41.748409090909085, 43.62481060606059, 46.73772727272726, 43.37280303030302, 42.7951515151515, 44.70534090909091, 57.87719696969696, 40.37446969696968, 48.11382575757576, 44.53564393939393, 43.93166666666666, 48.763219696969685, 47.75636363636362, 43.91696969696969, 44.26996212121211, 52.41257575757576, 44.58678030303029, 41.37386363636362, 50.72928030303029, 41.01174242424241, 52.12045454545454, 43.972310606060596, 45.72265151515151, 43.644015151515134, 41.638219696969685, 43.762651515151504, 52.054015151515145, 44.38583333333332, 60.86496212121211, 43.58958333333332, 39.79530303030302, 39.83882575757575, 51.747803030303025, 51.854090909090914, 43.83787878787878, 47.246060606060595, 47.89624999999998, 48.74977272727271, 44.16765151515151, 49.00390151515151, 53.338333333333324, 44.47662878787878, 41.56412878787877, 46.45223484848484, 43.329886363636355, 43.39602272727272, 43.94416666666666, 47.94655303030302, 45.29723484848485, 46.16833333333332, 43.91083333333333, 41.998106060606055, 43.71821969696968, 40.38295454545453, 53.3575, 43.89700757575756, 42.12821969696969, 43.8223106060606, 43.00666666666666, 44.147499999999994, 39.305303030303016, 44.915757575757574, 45.566666666666656, 46.09015151515151, 76.23428030303029, 44.01367424242423, 44.164886363636356, 43.96522727272726, 49.88594696969696, 45.70431818181818, 45.23659090909089, 48.1007196969697, 41.66454545454544, 76.36344696969695, 51.63462121212121, 53.56840909090909, 57.80844696969696, 44.066969696969686, 42.943143939393934, 44.70534090909091, 43.09996212121211, 43.84200757575756, 43.996969696969686, 39.95515151515149, 44.11325757575756, 60.69204545454544, 49.960530303030296, 44.55329545454544, 44.02871212121211, 44.65621212121211, 51.859242424242424, 43.36363636363635, 42.92939393939393, 53.16867424242424, 48.302992424242426, 41.86215909090908, 39.80905303030301, 53.20458333333333, 40.226628787878774, 45.129924242424224, 39.61624999999999, 40.594469696969675, 39.90371212121211, 40.352727272727265, 44.637310606060595, 41.740378787878775, 43.786893939393934, 46.539318181818174, 44.452803030303016, 41.873106060606055, 40.80564393939393, 48.72878787878788, 52.15837121212121, 44.860340909090894, 49.365113636363624, 46.55761363636363, 45.629166666666656, 60.77871212121211, 41.01590909090907, 47.892386363636355, 43.63242424242423, 42.98325757575756, 47.60397727272726, 45.29367424242424, 42.81803030303029, 52.03363636363636, 45.39382575757574, 40.110340909090894, 76.13844696969696, 44.68272727272726, 55.48030303030302, 49.00390151515151, 43.23291666666666, 48.23374999999999, 45.441174242424225, 44.85409090909091, 43.5410606060606, 41.66454545454544, 66.66041666666666, 44.14189393939393, 48.88803030303029, 44.73356060606059, 44.65428030303029, 43.7790909090909, 43.94416666666666, 43.64825757575756, 46.18075757575756, 44.67689393939393, 43.22219696969696, 50.555568181818174, 48.60280303030302, 44.672386363636356, 39.79075757575755, 43.97522727272727, 43.65306818181817, 41.15064393939393, 43.66492424242423, 51.78488636363636, 44.6851515151515, 43.46458333333332, 41.561325757575744, 52.84738636363636, 43.32746212121211, 39.86397727272726, 42.85249999999999, 42.77893939393939, 43.93742424242423, 43.28386363636363, 56.509962121212105, 41.73204545454544, 43.60196969696969, 43.11458333333333, 44.83553030303029, 42.241856060606054, 40.5635606060606, 41.612689393939384, 46.599090909090904, 41.005795454545435, 45.15575757575756, 43.21791666666666, 44.16231060606059, 50.833863636363624, 45.3810606060606, 41.998106060606055, 52.530871212121205, 44.003977272727255, 43.102196969696955, 43.78458333333332, 42.63867424242423, 52.046742424242424, 44.3585606060606, 45.543257575757565, 50.89143939393938, 41.141287878787864, 48.566969696969686, 52.33738636363636, 45.20409090909091, 40.56522727272726, 46.308560606060595, 43.16363636363635, 47.845757575757574, 40.97643939393939, 52.36643939393937, 41.998106060606055, 46.39102272727272, 41.59371212121211, 52.56340909090909, 53.219166666666666, 53.03939393939394, 44.35893939393939, 44.5935606060606, 76.21303030303028, 43.342499999999994, 40.4951515151515, 60.78954545454544, 41.727159090909076, 48.60064393939393, 51.681969696969695, 66.735, 45.70409090909091, 43.23772727272726, 76.14053030303029, 50.622386363636366, 52.58905303030303, 44.32363636363635, 42.245492424242414, 52.57075757575758, 44.36871212121211, 43.14530303030302, 40.37738636363635, 52.870643939393936, 40.65795454545453, 48.09306818181818, 41.56412878787878, 49.12113636363635, 44.94992424242424, 44.51727272727272, 43.937196969696956, 44.51765151515151, 45.29723484848485, 47.16700757575756, 39.226325757575744, 45.03958333333332, 44.70534090909091, 45.186590909090896, 46.81117424242423, 44.22094696969695, 43.966060606060594, 48.434204545454534, 45.29723484848485, 52.0707196969697, 46.599090909090904, 40.41939393939393, 42.16299242424241, 50.59136363636364, 50.21488636363637, 52.60170454545454, 41.740378787878775, 41.54037878787877, 52.93575757575758, 49.585530303030296, 43.8835606060606, 43.26405303030302, 50.47928030303029, 62.734507575757554, 76.19053030303029, 43.022840909090895, 48.21678030303029, 44.68734848484848, 52.35821969696969, 44.16405303030302, 52.00352272727272, 43.55893939393939, 52.41655303030303, 39.72257575757574, 44.13537878787878, 39.61257575757573, 43.75984848484847, 49.72340909090909, 44.81223484848484, 44.531477272727265, 42.012424242424224, 42.08579545454544, 41.700606060606056, 46.9835606060606, 48.05765151515151, 42.80268939393939, 45.06662878787878, 44.77481060606059, 44.48787878787878, 43.92867424242423, 41.15064393939393, 44.26996212121211, 44.006856060606054, 46.66367424242424, 49.88594696969696, 45.01056818181818, 50.591780303030305, 39.201325757575745, 51.649318181818174, 40.80564393939393, 40.95231060606059, 45.207121212121194, 44.23450757575756, 49.92265151515151, 45.374772727272706, 43.91231060606059, 41.960606060606054, 43.27636363636363, 49.952196969696956, 50.50363636363637, 43.83515151515151, 43.963636363636354, 47.0573106060606, 48.06340909090909, 44.02056818181817, 45.60409090909089, 43.807424242424226, 43.58996212121211, 43.309810606060594, 43.52291666666666, 40.4760606060606, 48.6173106060606, 43.56409090909089, 43.63655303030302, 46.16473484848485, 43.748143939393934, 43.91272727272727, 43.44416666666666, 48.59420454545453, 40.48564393939393, 54.628825757575754, 52.06837121212121, 42.73083333333333, 48.896893939393934, 44.36231060606059, 48.18306818181817, 42.964810606060595, 42.686856060606054, 66.74083333333333, 44.67352272727272, 41.20329545454544, 43.74662878787878, 42.68579545454544, 39.71291666666666, 45.19814393939393, 40.94556818181817, 45.937007575757576, 51.68655303030303, 49.46321969696969, 47.713636363636354, 52.447310606060604, 57.42837121212119, 43.85371212121211, 43.872007575757564, 42.92939393939393, 45.80390151515151, 60.640378787878774, 40.40742424242422, 57.84344696969696, 43.27950757575756, 58.08094696969696, 47.595871212121196, 52.034090909090914, 45.66242424242424, 40.13223484848483, 39.305303030303016, 43.65496212121211, 45.193674242424244, 44.852007575757575, 49.98624999999999, 43.586590909090894, 42.37143939393939, 43.347310606060596, 42.34954545454544, 43.91696969696969, 43.84113636363635, 40.33200757575756, 43.60189393939393, 43.3585606060606, 43.91242424242423, 45.29310606060606, 44.452803030303016, 47.97511363636363, 43.50412878787878, 48.869280303030294, 48.95280303030302, 49.35458333333332, 66.71375, 48.54219696969696, 40.59132575757574, 43.96015151515151, 44.55352272727272, 44.070946969696955, 44.8210606060606, 40.7389015151515, 43.963636363636354, 53.345416666666665, 43.73905303030302, 60.69204545454544, 46.49299242424242, 43.58238636363635, 51.98132575757575, 43.35992424242423, 43.69208333333333, 41.39060606060605, 43.44344696969696, 43.75647727272727, 49.27113636363636, 39.305303030303016, 49.70030303030302, 42.88204545454544, 43.86594696969696, 44.46700757575756, 43.69571969696969, 44.24348484848484, 43.52689393939393, 52.275075757575756, 44.293560606060595, 52.71780303030303, 42.781590909090895, 60.79954545454544, 49.412424242424244, 43.831401515151505, 43.10613636363635, 43.69041666666666, 43.309810606060594, 42.89287878787878, 43.872007575757564, 42.87450757575757, 41.69454545454544, 45.28121212121211, 45.047007575757576, 45.85204545454545, 46.96109848484847, 45.45867424242423, 45.92522727272726, 47.237234848484846, 40.45314393939393, 52.16780303030303, 43.886060606060596, 43.304886363636356, 42.813409090909076, 44.68791666666665, 43.43314393939393, 46.060378787878776, 46.560378787878776, 41.80280303030301, 42.73018939393939, 52.13939393939393, 42.67893939393939, 49.37018939393939, 46.817310606060595, 49.00390151515151, 48.3210606060606, 44.45405303030302, 44.14655303030302, 39.48977272727271, 43.845227272727264, 43.96700757575756, 42.661893939393934, 49.72553030303029, 44.26223484848484, 52.06837121212121, 52.330606060606044, 52.84799242424242, 45.54284090909089, 44.89867424242423, 45.61431818181818, 40.0751515151515, 44.27178030303029, 43.992083333333326, 44.085833333333326, 45.45204545454544, 57.62715909090909, 43.76935606060606, 43.93742424242423, 43.82439393939393, 50.38651515151514, 41.42022727272726, 45.160719696969686, 44.68306818181818, 45.195643939393925, 41.975378787878775, 44.27409090909091, 52.15867424242425, 43.892083333333325, 47.463636363636354, 43.44344696969696, 53.736325757575756, 41.900189393939385, 40.46401515151514, 43.342499999999994, 43.568143939393934, 44.46439393939393, 44.0335606060606, 62.913257575757555, 49.27344696969696, 53.29340909090909, 48.113749999999996, 45.808598484848474, 41.691022727272724, 44.23450757575756, 58.115946969696964, 43.2973106060606, 76.21303030303028, 44.2448106060606, 51.67893939393937, 44.452803030303016, 48.044469696969685, 43.69041666666666, 41.19958333333332, 49.365113636363624, 43.52113636363635, 49.02511363636363, 43.568143939393934, 47.57155303030302, 45.208484848484844, 45.07742424242423, 39.72257575757574, 53.60007575757575, 44.372916666666654, 45.035340909090905, 53.620416666666664, 43.46458333333332, 50.839053030303035, 43.02996212121211, 40.375227272727265, 45.11041666666665, 45.63329545454545, 43.59708333333332, 51.356363636363625, 48.68768939393938, 43.62481060606059, 40.48704545454544, 50.635303030303035, 43.54439393939393, 42.90397727272726, 43.665833333333325, 44.06310606060605, 41.902272727272724, 50.8894696969697, 41.8346212121212, 41.80352272727272, 45.42075757575758, 44.43124999999999, 45.84992424242424, 42.51518939393939, 42.772878787878774, 50.97219696969697, 39.14871212121211, 41.92049242424241, 44.22071969696969, 44.134090909090894, 42.11140151515149, 48.19446969696969, 44.363674242424224, 42.43768939393939, 45.06015151515151, 41.53768939393939, 50.905568181818175, 39.31166666666666, 45.66242424242424, 44.364734848484844, 42.73018939393939, 44.006856060606054, 52.411439393939396, 61.71795454545454, 57.81219696969696, 44.248219696969684, 53.98, 48.43761363636362, 50.03223484848484, 48.12799242424243, 43.8223106060606, 62.64867424242422, 45.39295454545453, 43.41079545454544, 48.19446969696969, 41.587159090909076, 44.364734848484844, 43.872007575757564, 52.037992424242425, 43.67560606060606, 44.21446969696969, 57.80636363636363, 42.282159090909076, 48.81321969696969, 43.73166666666666, 43.954318181818174, 41.998106060606055, 42.88268939393939, 52.330606060606044, 44.273446969696955, 42.258712121212106, 43.94416666666666, 43.770719696969685, 43.936590909090896, 43.28772727272727, 76.15511363636362, 43.28041666666666, 49.219053030303016, 46.56507575757575, 42.622878787878776, 50.56886363636362, 50.591780303030305, 43.63863636363635, 48.29185606060606, 44.973560606060595, 44.4085606060606, 44.746060606060595, 42.03518939393939, 48.764318181818176, 43.835833333333326, 43.00435606060606, 43.661893939393934, 43.84200757575756, 48.09882575757576, 49.74674242424242, 44.066969696969686, 41.975378787878775, 49.50931818181817, 43.652310606060595, 40.23613636363634, 43.980795454545444, 44.059507575757564, 66.7025, 45.358143939393926, 49.10022727272727, 45.20409090909091, 43.83458333333333, 42.032159090909076, 53.33833333333333, 41.66454545454544, 43.57492424242424, 43.66450757575756, 41.975378787878775, 66.71375, 49.98166666666666, 43.59708333333332, 45.60617424242424, 41.4406818181818, 63.770037878787875, 45.514090909090896, 43.338295454545445, 41.052159090909086, 46.917613636363626, 45.399545454545446, 45.70409090909091, 44.01640151515151, 76.07178030303028, 44.134090909090894, 62.488787878787875, 44.49874999999999, 43.91696969696969, 48.37291666666666, 50.83291666666666, 44.39534090909089, 44.066969696969686, 43.34386363636362, 55.084469696969684, 51.774318181818174, 43.97522727272727, 41.88090909090908, 39.896401515151496, 42.05060606060606, 47.539318181818174, 43.774583333333325, 41.76988636363635, 45.863863636363625, 43.77522727272726, 42.05310606060605, 42.67893939393939, 47.24772727272726, 44.64374999999999, 43.433295454545444, 51.967765151515145, 48.800113636363626, 41.82518939393939, 43.29912878787878, 43.70624999999999, 42.258712121212106, 49.27113636363636, 49.56640151515151, 76.12594696969695, 45.22806818181818, 43.239810606060594, 44.416401515151506, 41.998106060606055, 40.007803030303016, 54.19799242424242, 43.28428030303029, 43.20439393939393, 39.528825757575746, 41.4815909090909, 43.689886363636354, 47.44522727272726, 49.27113636363636, 76.19053030303029, 44.264393939393926, 76.07178030303028, 52.58905303030303, 47.539318181818174, 61.78704545454544, 43.37939393939393, 43.05147727272726, 43.99575757575756, 40.275871212121196, 44.085833333333326, 51.87946969696969, 42.89200757575756, 50.968068181818175, 45.755340909090904, 44.10916666666666, 50.60363636363637, 46.35015151515151, 47.95030303030302, 40.81393939393938, 48.03803030303029, 49.68136363636363, 47.96405303030302, 44.238219696969686, 45.52950757575756, 42.813409090909076, 44.56534090909089, 40.5739015151515, 39.73965909090907, 48.06340909090909, 43.41992424242423, 52.32299242424242, 43.28041666666666, 47.800719696969686, 39.27249999999999, 45.48477272727272, 45.193674242424244, 51.600265151515146, 43.886060606060596, 58.542613636363626, 47.424848484848475, 43.6773106060606, 47.235795454545446, 43.91696969696969, 54.504431818181814, 44.26996212121211, 60.74246212121211, 43.26272727272726, 45.39420454545453, 43.99113636363635, 50.811818181818175, 48.112803030303034, 43.34386363636362, 76.19053030303029, 48.65276515151515, 43.24121212121211, 47.92553030303029, 43.886060606060596, 43.57352272727272, 40.30409090909089, 40.32242424242422, 43.399545454545446, 43.82890151515151, 43.67473484848484, 76.07178030303028, 43.862727272727255, 44.86249999999999, 41.05912878787878, 43.83787878787878, 43.91897727272726, 45.78833333333333, 43.845227272727264, 47.958863636363624, 48.46287878787878, 46.30840909090908, 44.067499999999995, 46.46242424242424, 49.45678030303029, 45.514090909090896, 42.54071969696968, 50.11325757575756, 43.91696969696969, 43.832348484848474, 42.93689393939393, 60.77787878787878, 43.96700757575756, 42.356856060606056, 44.57083333333332, 39.53791666666666, 52.65564393939394, 43.886060606060596, 45.57522727272726, 44.77939393939393, 42.37143939393939, 42.58367424242423, 44.42704545454544, 57.94761363636363, 44.52492424242423, 45.40390151515151, 41.998106060606055, 52.58905303030303, 52.725492424242425, 40.62689393939393, 53.14363636363636, 45.166022727272725, 40.80564393939393, 50.73280303030303, 44.05390151515151, 47.773636363636356, 48.80469696969696, 57.28113636363635, 39.75632575757574, 40.6029924242424, 44.65428030303029, 45.045946969696956, 43.697083333333325, 44.61859848484848, 62.488787878787875, 45.312234848484835, 48.20280303030303, 41.8539015151515, 49.27113636363636, 48.493030303030295, 43.68636363636362, 52.42878787878787, 49.27113636363636, 52.53280303030303, 46.28348484848485, 48.98696969696969, 41.39518939393939, 44.064924242424226, 52.32867424242425, 50.01719696969696, 44.531249999999986, 43.94416666666666, 43.89075757575756, 43.8223106060606, 42.00977272727272, 43.872007575757564, 44.76897727272726, 43.770719696969685, 45.67446969696969, 43.56189393939393, 43.54439393939393, 43.13738636363635, 39.95488636363635, 45.17704545454544, 45.61431818181818, 41.533295454545446, 43.26439393939393, 48.38053030303029, 44.58958333333332, 43.91200757575756, 48.016780303030295, 39.628068181818165, 42.49852272727272, 41.005795454545435, 43.872007575757564, 66.7325, 44.97159090909089, 41.73204545454544, 43.886174242424225, 44.39196969696969, 39.95537878787877, 42.17424242424241, 66.71041666666666, 51.80734848484848, 52.42045454545454, 46.73140151515151, 43.76208333333333, 43.277499999999996, 47.831969696969686, 60.77871212121211, 51.11685606060605, 39.745909090909066, 44.559734848484844, 41.33401515151514, 44.2573106060606, 44.000643939393925, 40.143560606060596, 40.36954545454544, 44.00178030303029, 40.55159090909089, 40.37829545454544, 41.45988636363635, 44.32079545454545, 44.211401515151515, 43.22458333333333, 44.36871212121211, 43.33893939393939, 45.68147727272726, 54.51030303030302, 52.44617424242425, 49.58571969696969, 43.886060606060596, 43.41079545454544, 45.20409090909091, 47.95030303030303, 52.812992424242424, 59.25568181818181, 44.70534090909091, 57.99761363636363, 43.621060606060595, 43.67560606060606, 45.84556818181818, 44.30223484848484, 52.23909090909091, 43.35458333333332, 44.83534090909091, 66.7325, 49.2960606060606, 44.11905303030302, 43.737310606060596, 41.40128787878786, 49.647803030303024, 43.89700757575756, 47.172462121212114, 60.75746212121211, 51.646742424242426, 39.528825757575746, 42.56560606060606, 45.30204545454544, 44.074166666666656, 43.99655303030302, 49.80844696969696, 42.62143939393939, 43.41272727272727, 43.77738636363635, 42.10018939393939, 41.80352272727272, 44.9460606060606, 43.8223106060606, 45.808598484848474, 50.50071969696969, 43.64825757575756, 53.557916666666664, 49.20223484848484, 50.22844696969697, 41.23159090909089, 43.62723484848484, 45.331174242424225, 48.58151515151515, 44.76640151515151, 43.963636363636354, 44.51143939393939, 76.21303030303028, 51.93030303030303, 44.70534090909091, 42.13662878787878, 48.771818181818176, 39.528825757575746, 39.61624999999999, 42.859962121212114, 51.588825757575755, 43.87124999999999, 43.69041666666666, 43.748143939393934, 42.67954545454544, 39.34799242424241, 46.35015151515151, 52.42992424242425, 43.37958333333333, 43.85518939393939, 44.77700757575757, 42.61340909090908, 39.60378787878786, 45.56246212121211, 48.28553030303029, 45.02958333333333, 48.85053030303029, 43.996969696969686, 45.30969696969696, 57.56174242424241, 44.22912878787877, 45.70409090909091, 43.91696969696969, 43.29575757575756, 46.09765151515151, 42.81166666666666, 43.665833333333325, 47.35431818181817, 66.71375, 45.27189393939393, 51.248636363636365, 44.38564393939393, 52.77655303030303, 46.921477272727266, 52.41439393939394, 46.891401515151514, 43.83787878787878, 52.17840909090909, 45.15162878787878, 49.77727272727271, 49.27113636363636, 43.894924242424224, 43.0148106060606, 45.27492424242423, 41.94579545454544, 50.2569696969697, 43.15700757575756, 44.91738636363635, 44.066969696969686, 47.96249999999999, 44.2573106060606, 42.6635606060606, 41.72704545454544, 44.73931818181818, 43.62473484848484, 53.68132575757575, 62.488787878787875, 45.60617424242424, 44.45624999999999, 76.11344696969695, 39.298977272727264, 46.10242424242423, 45.29723484848485, 51.00386363636363, 44.416401515151506, 44.05390151515151, 44.01083333333332, 44.52291666666665, 48.15181818181818, 44.80700757575756, 53.47291666666666, 76.07178030303028, 52.697386363636355, 52.15109848484848, 43.599999999999994, 44.26056818181817, 43.621174242424225, 44.47704545454545, 46.81920454545453, 48.344507575757554, 44.61890151515151, 52.379356060606064, 44.27075757575757, 52.42045454545454, 45.20409090909091, 53.420909090909085, 49.01928030303029, 44.43874999999999, 44.02056818181817, 42.11507575757574, 41.45238636363635, 41.998106060606055, 40.06647727272726, 41.975378787878775, 48.83780303030302, 49.52397727272726, 44.44397727272727, 48.879469696969686, 62.91950757575756, 49.58571969696969, 43.886060606060596, 43.66242424242423, 43.897840909090895, 45.29723484848485, 49.056249999999984, 43.94416666666666, 44.481666666666655, 41.393295454545445, 48.19446969696969, 45.84992424242424, 45.29367424242424, 42.68909090909089, 43.91696969696969, 44.09314393939393, 40.13867424242422, 49.641780303030295]\n"
     ]
    }
   ],
   "source": [
    "print(final_pred_on_test)"
   ]
  },
  {
   "cell_type": "code",
   "execution_count": 246,
   "metadata": {},
   "outputs": [],
   "source": [
    "data_frame_test[\"Price\"]=final_pred_on_test"
   ]
  },
  {
   "cell_type": "code",
   "execution_count": 247,
   "metadata": {},
   "outputs": [
    {
     "data": {
      "text/html": [
       "<div>\n",
       "<style scoped>\n",
       "    .dataframe tbody tr th:only-of-type {\n",
       "        vertical-align: middle;\n",
       "    }\n",
       "\n",
       "    .dataframe tbody tr th {\n",
       "        vertical-align: top;\n",
       "    }\n",
       "\n",
       "    .dataframe thead th {\n",
       "        text-align: right;\n",
       "    }\n",
       "</style>\n",
       "<table border=\"1\" class=\"dataframe\">\n",
       "  <thead>\n",
       "    <tr style=\"text-align: right;\">\n",
       "      <th></th>\n",
       "      <th>Name</th>\n",
       "      <th>Location</th>\n",
       "      <th>Year</th>\n",
       "      <th>Kilometers_Driven</th>\n",
       "      <th>Fuel_Type</th>\n",
       "      <th>Transmission</th>\n",
       "      <th>Owner_Type</th>\n",
       "      <th>Mileage</th>\n",
       "      <th>Engine</th>\n",
       "      <th>Power</th>\n",
       "      <th>Seats</th>\n",
       "      <th>Price</th>\n",
       "    </tr>\n",
       "  </thead>\n",
       "  <tbody>\n",
       "    <tr>\n",
       "      <th>0</th>\n",
       "      <td>Maruti</td>\n",
       "      <td>Delhi</td>\n",
       "      <td>2014</td>\n",
       "      <td>40929</td>\n",
       "      <td>CNG</td>\n",
       "      <td>Manual</td>\n",
       "      <td>First</td>\n",
       "      <td>32.26</td>\n",
       "      <td>998.0</td>\n",
       "      <td>58.200000</td>\n",
       "      <td>4.0</td>\n",
       "      <td>46.409242</td>\n",
       "    </tr>\n",
       "    <tr>\n",
       "      <th>1</th>\n",
       "      <td>Maruti</td>\n",
       "      <td>Coimbatore</td>\n",
       "      <td>2013</td>\n",
       "      <td>54493</td>\n",
       "      <td>Petrol</td>\n",
       "      <td>Manual</td>\n",
       "      <td>Second</td>\n",
       "      <td>24.70</td>\n",
       "      <td>796.0</td>\n",
       "      <td>47.300000</td>\n",
       "      <td>5.0</td>\n",
       "      <td>49.228788</td>\n",
       "    </tr>\n",
       "    <tr>\n",
       "      <th>2</th>\n",
       "      <td>Toyota</td>\n",
       "      <td>Mumbai</td>\n",
       "      <td>2017</td>\n",
       "      <td>34000</td>\n",
       "      <td>Diesel</td>\n",
       "      <td>Manual</td>\n",
       "      <td>First</td>\n",
       "      <td>13.68</td>\n",
       "      <td>2393.0</td>\n",
       "      <td>147.800000</td>\n",
       "      <td>7.0</td>\n",
       "      <td>47.049280</td>\n",
       "    </tr>\n",
       "    <tr>\n",
       "      <th>3</th>\n",
       "      <td>Toyota</td>\n",
       "      <td>Hyderabad</td>\n",
       "      <td>2012</td>\n",
       "      <td>139000</td>\n",
       "      <td>Diesel</td>\n",
       "      <td>Manual</td>\n",
       "      <td>First</td>\n",
       "      <td>23.59</td>\n",
       "      <td>1364.0</td>\n",
       "      <td>108.396458</td>\n",
       "      <td>5.0</td>\n",
       "      <td>42.762008</td>\n",
       "    </tr>\n",
       "    <tr>\n",
       "      <th>4</th>\n",
       "      <td>Hyundai</td>\n",
       "      <td>Mumbai</td>\n",
       "      <td>2014</td>\n",
       "      <td>29000</td>\n",
       "      <td>Petrol</td>\n",
       "      <td>Manual</td>\n",
       "      <td>First</td>\n",
       "      <td>18.50</td>\n",
       "      <td>1197.0</td>\n",
       "      <td>82.850000</td>\n",
       "      <td>5.0</td>\n",
       "      <td>43.837386</td>\n",
       "    </tr>\n",
       "  </tbody>\n",
       "</table>\n",
       "</div>"
      ],
      "text/plain": [
       "      Name    Location  Year  Kilometers_Driven Fuel_Type Transmission  \\\n",
       "0   Maruti       Delhi  2014              40929       CNG       Manual   \n",
       "1   Maruti  Coimbatore  2013              54493    Petrol       Manual   \n",
       "2   Toyota      Mumbai  2017              34000    Diesel       Manual   \n",
       "3   Toyota   Hyderabad  2012             139000    Diesel       Manual   \n",
       "4  Hyundai      Mumbai  2014              29000    Petrol       Manual   \n",
       "\n",
       "  Owner_Type  Mileage  Engine       Power  Seats      Price  \n",
       "0      First    32.26   998.0   58.200000    4.0  46.409242  \n",
       "1     Second    24.70   796.0   47.300000    5.0  49.228788  \n",
       "2      First    13.68  2393.0  147.800000    7.0  47.049280  \n",
       "3      First    23.59  1364.0  108.396458    5.0  42.762008  \n",
       "4      First    18.50  1197.0   82.850000    5.0  43.837386  "
      ]
     },
     "execution_count": 247,
     "metadata": {},
     "output_type": "execute_result"
    }
   ],
   "source": [
    "data_frame_test.head()"
   ]
  },
  {
   "cell_type": "code",
   "execution_count": 249,
   "metadata": {},
   "outputs": [],
   "source": [
    "data_frame_test.to_excel(\"final_ans.xlsx\")"
   ]
  },
  {
   "cell_type": "code",
   "execution_count": null,
   "metadata": {},
   "outputs": [],
   "source": []
  }
 ],
 "metadata": {
  "colab": {
   "authorship_tag": "ABX9TyNLUDByYs7Zl1Jy31lupZQV",
   "collapsed_sections": [],
   "name": "ML.ipynb",
   "provenance": []
  },
  "kernelspec": {
   "display_name": "Python 3",
   "language": "python",
   "name": "python3"
  },
  "language_info": {
   "codemirror_mode": {
    "name": "ipython",
    "version": 3
   },
   "file_extension": ".py",
   "mimetype": "text/x-python",
   "name": "python",
   "nbconvert_exporter": "python",
   "pygments_lexer": "ipython3",
   "version": "3.7.3"
  }
 },
 "nbformat": 4,
 "nbformat_minor": 1
}
